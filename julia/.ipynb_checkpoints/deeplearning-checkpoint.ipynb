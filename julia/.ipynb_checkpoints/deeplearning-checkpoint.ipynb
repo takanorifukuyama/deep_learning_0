{
 "cells": [
  {
   "cell_type": "markdown",
   "metadata": {},
   "source": [
    "https://yoyablog.com/post/deeplearning/julia-scratch"
   ]
  },
  {
   "cell_type": "code",
   "execution_count": 1,
   "metadata": {},
   "outputs": [
    {
     "name": "stderr",
     "output_type": "stream",
     "text": [
      "\u001b[32m\u001b[1m   Updating\u001b[22m\u001b[39m registry at `~/.julia/registries/General`\n",
      "######################################################################### 100.0%3%\n",
      "\u001b[32m\u001b[1m  Resolving\u001b[22m\u001b[39m package versions...\n",
      "\u001b[32m\u001b[1mNo Changes\u001b[22m\u001b[39m to `~/.julia/environments/v1.5/Project.toml`\n",
      "\u001b[32m\u001b[1mNo Changes\u001b[22m\u001b[39m to `~/.julia/environments/v1.5/Manifest.toml`\n",
      "\u001b[32m\u001b[1m  Resolving\u001b[22m\u001b[39m package versions...\n",
      "\u001b[32m\u001b[1m  Installed\u001b[22m\u001b[39m InvertedIndices ───────────── v1.0.0\n",
      "\u001b[32m\u001b[1m  Installed\u001b[22m\u001b[39m PooledArrays ──────────────── v0.5.3\n",
      "\u001b[32m\u001b[1m  Installed\u001b[22m\u001b[39m Crayons ───────────────────── v4.0.4\n",
      "\u001b[32m\u001b[1m  Installed\u001b[22m\u001b[39m DataValueInterfaces ───────── v1.0.0\n",
      "\u001b[32m\u001b[1m  Installed\u001b[22m\u001b[39m TableTraits ───────────────── v1.0.0\n",
      "\u001b[32m\u001b[1m  Installed\u001b[22m\u001b[39m Formatting ────────────────── v0.4.2\n",
      "\u001b[32m\u001b[1m  Installed\u001b[22m\u001b[39m Tables ────────────────────── v1.2.2\n",
      "\u001b[32m\u001b[1m  Installed\u001b[22m\u001b[39m DataFrames ────────────────── v0.22.2\n",
      "\u001b[32m\u001b[1m  Installed\u001b[22m\u001b[39m IteratorInterfaceExtensions ─ v1.0.0\n",
      "\u001b[32m\u001b[1m  Installed\u001b[22m\u001b[39m PrettyTables ──────────────── v0.10.1\n",
      "\u001b[32m\u001b[1mUpdating\u001b[22m\u001b[39m `~/.julia/environments/v1.5/Project.toml`\n",
      " \u001b[90m [a93c6f00] \u001b[39m\u001b[92m+ DataFrames v0.22.2\u001b[39m\n",
      "\u001b[32m\u001b[1mUpdating\u001b[22m\u001b[39m `~/.julia/environments/v1.5/Manifest.toml`\n",
      " \u001b[90m [a8cc5b0e] \u001b[39m\u001b[92m+ Crayons v4.0.4\u001b[39m\n",
      " \u001b[90m [a93c6f00] \u001b[39m\u001b[92m+ DataFrames v0.22.2\u001b[39m\n",
      " \u001b[90m [e2d170a0] \u001b[39m\u001b[92m+ DataValueInterfaces v1.0.0\u001b[39m\n",
      " \u001b[90m [59287772] \u001b[39m\u001b[92m+ Formatting v0.4.2\u001b[39m\n",
      " \u001b[90m [41ab1584] \u001b[39m\u001b[92m+ InvertedIndices v1.0.0\u001b[39m\n",
      " \u001b[90m [82899510] \u001b[39m\u001b[92m+ IteratorInterfaceExtensions v1.0.0\u001b[39m\n",
      " \u001b[90m [2dfb63ee] \u001b[39m\u001b[92m+ PooledArrays v0.5.3\u001b[39m\n",
      " \u001b[90m [08abe8d2] \u001b[39m\u001b[92m+ PrettyTables v0.10.1\u001b[39m\n",
      " \u001b[90m [3783bdb8] \u001b[39m\u001b[92m+ TableTraits v1.0.0\u001b[39m\n",
      " \u001b[90m [bd369af6] \u001b[39m\u001b[92m+ Tables v1.2.2\u001b[39m\n"
     ]
    }
   ],
   "source": [
    "using Pkg; Pkg.add(\"HTTP\"); Pkg.add(\"DataFrames\")"
   ]
  },
  {
   "cell_type": "code",
   "execution_count": 2,
   "metadata": {},
   "outputs": [
    {
     "name": "stderr",
     "output_type": "stream",
     "text": [
      "\u001b[32m\u001b[1m  Resolving\u001b[22m\u001b[39m package versions...\n",
      "\u001b[32m\u001b[1mNo Changes\u001b[22m\u001b[39m to `~/.julia/environments/v1.5/Project.toml`\n",
      "\u001b[32m\u001b[1mNo Changes\u001b[22m\u001b[39m to `~/.julia/environments/v1.5/Manifest.toml`\n"
     ]
    }
   ],
   "source": [
    "using Pkg; Pkg.add(\"PyCall\")"
   ]
  },
  {
   "cell_type": "code",
   "execution_count": 3,
   "metadata": {},
   "outputs": [
    {
     "name": "stderr",
     "output_type": "stream",
     "text": [
      "\u001b[32m\u001b[1m  Resolving\u001b[22m\u001b[39m package versions...\n",
      "\u001b[32m\u001b[1m  Installed\u001b[22m\u001b[39m Parameters ────── v0.12.1\n",
      "\u001b[32m\u001b[1m  Installed\u001b[22m\u001b[39m UnPack ────────── v1.0.2\n",
      "\u001b[32m\u001b[1m  Installed\u001b[22m\u001b[39m ScikitLearnBase ─ v0.5.0\n",
      "\u001b[32m\u001b[1m  Installed\u001b[22m\u001b[39m ScikitLearn ───── v0.6.3\n",
      "\u001b[32m\u001b[1mUpdating\u001b[22m\u001b[39m `~/.julia/environments/v1.5/Project.toml`\n",
      " \u001b[90m [3646fa90] \u001b[39m\u001b[92m+ ScikitLearn v0.6.3\u001b[39m\n",
      "\u001b[32m\u001b[1mUpdating\u001b[22m\u001b[39m `~/.julia/environments/v1.5/Manifest.toml`\n",
      " \u001b[90m [d96e819e] \u001b[39m\u001b[92m+ Parameters v0.12.1\u001b[39m\n",
      " \u001b[90m [3646fa90] \u001b[39m\u001b[92m+ ScikitLearn v0.6.3\u001b[39m\n",
      " \u001b[90m [6e75b9c4] \u001b[39m\u001b[92m+ ScikitLearnBase v0.5.0\u001b[39m\n",
      " \u001b[90m [3a884ed6] \u001b[39m\u001b[92m+ UnPack v1.0.2\u001b[39m\n"
     ]
    }
   ],
   "source": [
    "using Pkg; Pkg.add(\"ScikitLearn\")"
   ]
  },
  {
   "cell_type": "code",
   "execution_count": 4,
   "metadata": {},
   "outputs": [
    {
     "name": "stderr",
     "output_type": "stream",
     "text": [
      "\u001b[32m\u001b[1m  Resolving\u001b[22m\u001b[39m package versions...\n",
      "\u001b[32m\u001b[1mNo Changes\u001b[22m\u001b[39m to `~/.julia/environments/v1.5/Project.toml`\n",
      "\u001b[32m\u001b[1mNo Changes\u001b[22m\u001b[39m to `~/.julia/environments/v1.5/Manifest.toml`\n"
     ]
    }
   ],
   "source": [
    "using Pkg; Pkg.add(\"PyPlot\")"
   ]
  },
  {
   "cell_type": "code",
   "execution_count": 5,
   "metadata": {},
   "outputs": [
    {
     "name": "stderr",
     "output_type": "stream",
     "text": [
      "\u001b[32m\u001b[1m  Resolving\u001b[22m\u001b[39m package versions...\n",
      "\u001b[32m\u001b[1m  Installed\u001b[22m\u001b[39m nghttp2_jll ──────── v1.40.0+2\n",
      "\u001b[32m\u001b[1m  Installed\u001b[22m\u001b[39m Zstd_jll ─────────── v1.4.5+2\n",
      "\u001b[32m\u001b[1m  Installed\u001b[22m\u001b[39m LibCURL_jll ──────── v7.70.0+2\n",
      "\u001b[32m\u001b[1m  Installed\u001b[22m\u001b[39m OpenSSL_jll ──────── v1.1.1+6\n",
      "\u001b[32m\u001b[1m  Installed\u001b[22m\u001b[39m LibSSH2_jll ──────── v1.9.0+3\n",
      "\u001b[32m\u001b[1m  Installed\u001b[22m\u001b[39m BinDeps ──────────── v1.0.2\n",
      "\u001b[32m\u001b[1m  Installed\u001b[22m\u001b[39m DataDeps ─────────── v0.7.6\n",
      "\u001b[32m\u001b[1m  Installed\u001b[22m\u001b[39m MLDatasets ───────── v0.5.3\n",
      "\u001b[32m\u001b[1m  Installed\u001b[22m\u001b[39m CodecZlib ────────── v0.7.0\n",
      "\u001b[32m\u001b[1m  Installed\u001b[22m\u001b[39m Zlib_jll ─────────── v1.2.11+18\n",
      "\u001b[32m\u001b[1m  Installed\u001b[22m\u001b[39m Lz4_jll ──────────── v1.9.2+2\n",
      "\u001b[32m\u001b[1m  Installed\u001b[22m\u001b[39m Blosc ────────────── v0.7.0\n",
      "\u001b[32m\u001b[1m  Installed\u001b[22m\u001b[39m BufferedStreams ──── v1.0.0\n",
      "\u001b[32m\u001b[1m  Installed\u001b[22m\u001b[39m BinaryProvider ───── v0.5.10\n",
      "\u001b[32m\u001b[1m  Installed\u001b[22m\u001b[39m HDF5 ─────────────── v0.14.3\n",
      "\u001b[32m\u001b[1m  Installed\u001b[22m\u001b[39m GZip ─────────────── v0.5.1\n",
      "\u001b[32m\u001b[1m  Installed\u001b[22m\u001b[39m p7zip_jll ────────── v16.2.0+3\n",
      "\u001b[32m\u001b[1m  Installed\u001b[22m\u001b[39m HDF5_jll ─────────── v1.12.0+1\n",
      "\u001b[32m\u001b[1m  Installed\u001b[22m\u001b[39m Blosc_jll ────────── v1.14.3+1\n",
      "\u001b[32m\u001b[1m  Installed\u001b[22m\u001b[39m TranscodingStreams ─ v0.9.5\n",
      "\u001b[32m\u001b[1m  Installed\u001b[22m\u001b[39m MAT ──────────────── v0.9.2\n",
      "\u001b[32m\u001b[1mUpdating\u001b[22m\u001b[39m `~/.julia/environments/v1.5/Project.toml`\n",
      " \u001b[90m [eb30cadb] \u001b[39m\u001b[92m+ MLDatasets v0.5.3\u001b[39m\n",
      "\u001b[32m\u001b[1mUpdating\u001b[22m\u001b[39m `~/.julia/environments/v1.5/Manifest.toml`\n",
      " \u001b[90m [9e28174c] \u001b[39m\u001b[92m+ BinDeps v1.0.2\u001b[39m\n",
      " \u001b[90m [b99e7846] \u001b[39m\u001b[92m+ BinaryProvider v0.5.10\u001b[39m\n",
      " \u001b[90m [a74b3585] \u001b[39m\u001b[92m+ Blosc v0.7.0\u001b[39m\n",
      " \u001b[90m [0b7ba130] \u001b[39m\u001b[92m+ Blosc_jll v1.14.3+1\u001b[39m\n",
      " \u001b[90m [e1450e63] \u001b[39m\u001b[92m+ BufferedStreams v1.0.0\u001b[39m\n",
      " \u001b[90m [944b1d66] \u001b[39m\u001b[92m+ CodecZlib v0.7.0\u001b[39m\n",
      " \u001b[90m [124859b0] \u001b[39m\u001b[92m+ DataDeps v0.7.6\u001b[39m\n",
      " \u001b[90m [92fee26a] \u001b[39m\u001b[92m+ GZip v0.5.1\u001b[39m\n",
      " \u001b[90m [f67ccb44] \u001b[39m\u001b[92m+ HDF5 v0.14.3\u001b[39m\n",
      " \u001b[90m [0234f1f7] \u001b[39m\u001b[92m+ HDF5_jll v1.12.0+1\u001b[39m\n",
      " \u001b[90m [deac9b47] \u001b[39m\u001b[92m+ LibCURL_jll v7.70.0+2\u001b[39m\n",
      " \u001b[90m [29816b5a] \u001b[39m\u001b[92m+ LibSSH2_jll v1.9.0+3\u001b[39m\n",
      " \u001b[90m [5ced341a] \u001b[39m\u001b[92m+ Lz4_jll v1.9.2+2\u001b[39m\n",
      " \u001b[90m [23992714] \u001b[39m\u001b[92m+ MAT v0.9.2\u001b[39m\n",
      " \u001b[90m [eb30cadb] \u001b[39m\u001b[92m+ MLDatasets v0.5.3\u001b[39m\n",
      " \u001b[90m [458c3c95] \u001b[39m\u001b[92m+ OpenSSL_jll v1.1.1+6\u001b[39m\n",
      " \u001b[90m [3bb67fe8] \u001b[39m\u001b[92m+ TranscodingStreams v0.9.5\u001b[39m\n",
      " \u001b[90m [83775a58] \u001b[39m\u001b[92m+ Zlib_jll v1.2.11+18\u001b[39m\n",
      " \u001b[90m [3161d3a3] \u001b[39m\u001b[92m+ Zstd_jll v1.4.5+2\u001b[39m\n",
      " \u001b[90m [8e850ede] \u001b[39m\u001b[92m+ nghttp2_jll v1.40.0+2\u001b[39m\n",
      " \u001b[90m [3f19e933] \u001b[39m\u001b[92m+ p7zip_jll v16.2.0+3\u001b[39m\n",
      "\u001b[32m\u001b[1m   Building\u001b[22m\u001b[39m DataDeps → `~/.julia/packages/DataDeps/jrlAW/deps/build.log`\n",
      "\u001b[32m\u001b[1m   Building\u001b[22m\u001b[39m HDF5 ────→ `~/.julia/packages/HDF5/d0V7K/deps/build.log`\n"
     ]
    }
   ],
   "source": [
    "using Pkg; Pkg.add(\"MLDatasets\")"
   ]
  },
  {
   "cell_type": "markdown",
   "metadata": {},
   "source": [
    "パーセプトロン\n",
    "- 1957年ローゼンブラットにより考案されたアルゴリズム\n",
    "- 複数の信号を受け取り、一つの信号を出力する\n",
    "- 出力する信号は「流す／流さない（1 or 0）」の二値\n",
    "- 各入力信号には重要度があり、それを重みで表現する"
   ]
  },
  {
   "cell_type": "code",
   "execution_count": 8,
   "metadata": {},
   "outputs": [
    {
     "data": {
      "text/plain": [
       "make_perceptron (generic function with 1 method)"
      ]
     },
     "execution_count": 8,
     "metadata": {},
     "output_type": "execute_result"
    }
   ],
   "source": [
    "using LinearAlgebra\n",
    "\n",
    "make_perceptron(weight::Array{Float64, 1}, bias::Float64) = begin\n",
    "    return (x::Array{Int, 1}) -> dot(x, weight) + bias > 0 ? 1 : 0\n",
    "end"
   ]
  },
  {
   "cell_type": "markdown",
   "metadata": {},
   "source": [
    "### AND Persseptron"
   ]
  },
  {
   "cell_type": "code",
   "execution_count": 11,
   "metadata": {},
   "outputs": [
    {
     "name": "stdout",
     "output_type": "stream",
     "text": [
      "[0, 0] => 0\n",
      "[0, 1] => 0\n",
      "[1, 0] => 0\n",
      "[1, 1] => 1\n"
     ]
    }
   ],
   "source": [
    "\"\"\"\n",
    "AND演算\n",
    "0, 0 => 0\n",
    "0, 1 => 0\n",
    "1, 0 => 0\n",
    "1, 1 => 1\n",
    "\"\"\"\n",
    "\n",
    "# ANDパーセプトロン\n",
    "## 重み: 0.5, 0.5\n",
    "## バイアス: -0.75\n",
    "AND = make_perceptron([0.5, 0.5], -0.75)\n",
    "\n",
    "for x in [[0, 0], [0, 1], [1, 0], [1, 1]]\n",
    "    println(\"$(x) => $(AND(x))\")\n",
    "end"
   ]
  },
  {
   "cell_type": "markdown",
   "metadata": {},
   "source": [
    "$ w_i $ は重み、　$ b $ はニューロンの発火のしやすさ\n",
    "基本的に\n",
    "\n",
    "$$\n",
    "    \\sum_{i=1}^{n} | w_i | = 1,　 | b | \\leq 1\n",
    "$$\n",
    "\n",
    "となる\n",
    "\n",
    "\n",
    "AND　PerceptronのParameterの意味を考えると\n",
    "- $ w_1, w_2 $ とともに0.5であるため、入力信号の重要度変わらない\n",
    "    - 言い換えれば、ふたつの入力値を変えても結果は変わらない\n",
    "- $b$ は-0.75であり、　0.25-1に等しい\n",
    "    - つまり、25％の確率で発火し、75％の確率で発火しない\n",
    "- 二つの入力値は入力順が変わっても出力値はかわらない\n",
    "$ [0, 1] = [0, 1] = 0 $\n",
    "- 4つの組み合わせうち出力値が１（発火）になるのは　$ ([1, 1]) $　のみ\n",
    "- 発火確率は　$　1/4 = 0.25 $ だから２５％"
   ]
  },
  {
   "cell_type": "code",
   "execution_count": 12,
   "metadata": {},
   "outputs": [
    {
     "name": "stdout",
     "output_type": "stream",
     "text": [
      "[0, 0] => 0\n",
      "[0, 1] => 1\n",
      "[1, 0] => 1\n",
      "[1, 1] => 1\n"
     ]
    }
   ],
   "source": [
    "\"\"\"\n",
    "OR演算\n",
    "0, 0 => 0\n",
    "0, 1 => 1\n",
    "1, 0 => 1\n",
    "1, 1 => 1\n",
    "\"\"\"\n",
    "\n",
    "# ORパーセプトロン\n",
    "## 重み: 0.5, 0.5 => 入力信号の重要度は変わらない\n",
    "## バイアス: -0.25 => 25%の確率で発火しない（[0,0]のみ）, 75%の確率で発火（[0,1], [1,0], [1,1]）\n",
    "OR = make_perceptron([0.5, 0.5], -0.25)\n",
    "\n",
    "for x in [[0, 0], [0, 1], [1, 0], [1, 1]]\n",
    "    println(\"$(x) => $(OR(x))\")\n",
    "end"
   ]
  },
  {
   "cell_type": "code",
   "execution_count": 13,
   "metadata": {},
   "outputs": [
    {
     "name": "stdout",
     "output_type": "stream",
     "text": [
      "[0, 0] => 1\n",
      "[0, 1] => 1\n",
      "[1, 0] => 1\n",
      "[1, 1] => 0\n"
     ]
    }
   ],
   "source": [
    "\"\"\"\n",
    "NAND: NOT AND\n",
    "0, 0 => 1\n",
    "0, 1 => 1\n",
    "1, 0 => 1\n",
    "1, 1 => 0\n",
    "\"\"\"\n",
    "\n",
    "# NANDパーセプトロン\n",
    "## 重みとバイアスをそれぞれ符号反転すれば NOT 演算に等しくなる: NOT AND = -AND(x, b)\n",
    "## 重み: -0.5, -0.5 => 入力信号の重要度は変わらない\n",
    "## バイアス: 0.75 => 25%の確率で発火（[1,1]）\n",
    "NAND = make_perceptron([-0.5, -0.5], 0.75)\n",
    "\n",
    "for x in [[0, 0], [0, 1], [1, 0], [1, 1]]\n",
    "    println(\"$(x) => $(NAND(x))\")\n",
    "end"
   ]
  },
  {
   "cell_type": "code",
   "execution_count": 14,
   "metadata": {},
   "outputs": [
    {
     "name": "stdout",
     "output_type": "stream",
     "text": [
      "[0, 0] => 1\n",
      "[0, 1] => 0\n",
      "[1, 0] => 0\n",
      "[1, 1] => 0\n"
     ]
    }
   ],
   "source": [
    "\"\"\"\n",
    "NOR: NOT OR\n",
    "0, 0 => 1\n",
    "0, 1 => 0\n",
    "1, 0 => 0\n",
    "1, 1 => 0\n",
    "\"\"\"\n",
    "\n",
    "# NORパーセプトロン\n",
    "## 重みとバイアスをそれぞれ符号反転すれば NOT 演算に等しくなる: NOT OR = -OR(x, b)\n",
    "## 重み: -0.5, -0.5 => 入力信号の重要度は変わらない\n",
    "## バイアス: 0.25 => 75%の確率で発火（[0,1], [1,0], [1,1]）\n",
    "NOR = make_perceptron([-0.5, -0.5], 0.25)\n",
    "\n",
    "for x in [[0, 0], [0, 1], [1, 0], [1, 1]]\n",
    "    println(\"$(x) => $(NOR(x))\")\n",
    "end"
   ]
  },
  {
   "cell_type": "code",
   "execution_count": 15,
   "metadata": {},
   "outputs": [
    {
     "name": "stdout",
     "output_type": "stream",
     "text": [
      "[0, 0] => 0\n",
      "[0, 1] => 1\n",
      "[1, 0] => 1\n",
      "[1, 1] => 0\n"
     ]
    }
   ],
   "source": [
    "\"\"\"\n",
    "XOR: AND(NAND(x1,x2), OR(x1,x2))\n",
    "0, 0 => 0\n",
    "0, 1 => 1\n",
    "1, 0 => 1\n",
    "1, 1 => 0\n",
    "\"\"\"\n",
    "\n",
    "# XORパーセプトロン\n",
    "## NAND, ORパーセプトロンを ANDパーセプトロンで結合する\n",
    "XOR(x::Array{Int,1}) = AND([NAND(x), OR(x)])\n",
    "\n",
    "for x in [[0, 0], [0, 1], [1, 0], [1, 1]]\n",
    "    println(\"$(x) => $(XOR(x))\")\n",
    "end"
   ]
  },
  {
   "cell_type": "code",
   "execution_count": 16,
   "metadata": {},
   "outputs": [
    {
     "data": {
      "text/plain": [
       "101-element Array{Float64,1}:\n",
       " 0.0\n",
       " 0.0\n",
       " 0.0\n",
       " 0.0\n",
       " 0.0\n",
       " 0.0\n",
       " 0.0\n",
       " 0.0\n",
       " 0.0\n",
       " 0.0\n",
       " 0.0\n",
       " 0.0\n",
       " 0.0\n",
       " ⋮\n",
       " 1.0\n",
       " 1.0\n",
       " 1.0\n",
       " 1.0\n",
       " 1.0\n",
       " 1.0\n",
       " 1.0\n",
       " 1.0\n",
       " 1.0\n",
       " 1.0\n",
       " 1.0\n",
       " 1.0"
      ]
     },
     "execution_count": 16,
     "metadata": {},
     "output_type": "execute_result"
    }
   ],
   "source": [
    "\"\"\"\n",
    "ステップ関数とシグモイド関数の比較\n",
    "\"\"\"\n",
    "\n",
    "# ステップ関数\n",
    "step(a::Float64)::Float64 = (a <= 0 ? 0 : 1)\n",
    "\n",
    "# シグモイド関数\n",
    "sigmoid(a::Float64)::Float64 = 1 / (1 + exp(-a))\n",
    "\n",
    "# プロット用｜横軸\n",
    "## collect(start:interval:end): start〜endまでinterval刻みの数値配列を生成\n",
    "a = collect(-5.0:0.1:5.0)\n",
    "\n",
    "# ステップ関数実行\n",
    "## function.(array) で function(v) for v in array を実行\n",
    "y = step.(a)"
   ]
  },
  {
   "cell_type": "code",
   "execution_count": 17,
   "metadata": {},
   "outputs": [
    {
     "data": {
      "image/png": "[encoded data removed]",
      "text/plain": [
       "Figure(PyObject <Figure size 640x480 with 1 Axes>)"
      ]
     },
     "metadata": {},
     "output_type": "display_data"
    },
    {
     "name": "stderr",
     "output_type": "stream",
     "text": [
      "WARNING: using PyPlot.step in module Main conflicts with an existing identifier.\n"
     ]
    },
    {
     "data": {
      "text/plain": [
       "1-element Array{PyCall.PyObject,1}:\n",
       " PyObject <matplotlib.lines.Line2D object at 0x7fef27c5dc40>"
      ]
     },
     "execution_count": 17,
     "metadata": {},
     "output_type": "execute_result"
    }
   ],
   "source": [
    "# PyPlotパッケージ利用\n",
    "using PyPlot\n",
    "\n",
    "# ステップ関数プロット\n",
    "plot(a, y)"
   ]
  },
  {
   "cell_type": "code",
   "execution_count": 18,
   "metadata": {
    "scrolled": true
   },
   "outputs": [
    {
     "data": {
      "image/png": "[encoded data removed]",
      "text/plain": [
       "Figure(PyObject <Figure size 640x480 with 1 Axes>)"
      ]
     },
     "metadata": {},
     "output_type": "display_data"
    },
    {
     "data": {
      "text/plain": [
       "1-element Array{PyCall.PyObject,1}:\n",
       " PyObject <matplotlib.lines.Line2D object at 0x7fef2835f970>"
      ]
     },
     "execution_count": 18,
     "metadata": {},
     "output_type": "execute_result"
    }
   ],
   "source": [
    "# シグモイド関数プロット\n",
    "plot(a, sigmoid.(a))"
   ]
  },
  {
   "cell_type": "code",
   "execution_count": 19,
   "metadata": {},
   "outputs": [
    {
     "data": {
      "image/png": "[encoded data removed]",
      "text/plain": [
       "Figure(PyObject <Figure size 640x480 with 1 Axes>)"
      ]
     },
     "metadata": {},
     "output_type": "display_data"
    },
    {
     "data": {
      "text/plain": [
       "1-element Array{PyCall.PyObject,1}:\n",
       " PyObject <matplotlib.lines.Line2D object at 0x7fef283b8df0>"
      ]
     },
     "execution_count": 19,
     "metadata": {},
     "output_type": "execute_result"
    }
   ],
   "source": [
    "# ReLU関数\n",
    "ReLU(x::Float64)::Float64 = (x <= 0 ? 0 : x)\n",
    "\n",
    "# プロット用｜入力値: -5.0, -4.9, ..., 4.9, 5.0\n",
    "x = collect(-5.0:0.1:5.0)\n",
    "\n",
    "# ReLU関数プロット\n",
    "plot(x, ReLU.(x))"
   ]
  },
  {
   "cell_type": "markdown",
   "metadata": {},
   "source": [
    "### ニューラルネットワーク一層のテンソル計算\n",
    "\n",
    "$$\n",
    "    \\begin{bmatrix}\n",
    "    a_1^{(1)} \\\\\n",
    "    a_2^{(1)} \\\\\n",
    "    a_3^{(1)}\n",
    "    \\end{bmatrix}\n",
    "    =\n",
    "    \\begin{bmatrix}\n",
    "    x_1 & x_2\n",
    "    \\end{bmatrix}\n",
    "    \\begin{bmatrix}\n",
    "    w_{11}^{(1)} & w_{21}^{(1)} & w_{31}^{(1)} \\\\\n",
    "    w_{12}^{(1)} & w_{22}^{(1)} & w_{32}^{(1)}\n",
    "    \\end{bmatrix}\n",
    "    +\n",
    "    \\begin{bmatrix}\n",
    "    w_{1}^{(1)} \\\\\n",
    "    w_{2}^{(1)} \\\\\n",
    "    w_{3}^{(1)}\n",
    "    \\end{bmatrix} \\\\\n",
    "    =\n",
    "    \\begin{bmatrix}\n",
    "    \\sum_{p=1}^2 (x_1 * w_1^{(1)}) + b_1^{(1)} \\\\\n",
    "    \\sum_{p=1}^2 (x_2 * w_2^{(1)}) + b_1^{(2)} \\\\\n",
    "    \\sum_{p=1}^2 (x_3 * w_3^{(1)}) + b_1^{(3)}\n",
    "    \\end{bmatrix}\n",
    "$$"
   ]
  },
  {
   "cell_type": "code",
   "execution_count": 20,
   "metadata": {},
   "outputs": [
    {
     "data": {
      "text/plain": [
       "1×2 Array{Float64,2}:\n",
       " 0.316827  0.696279"
      ]
     },
     "execution_count": 20,
     "metadata": {},
     "output_type": "execute_result"
    }
   ],
   "source": [
    "\"\"\"\n",
    "3層ニューラルネットワークの実装\n",
    "\"\"\"\n",
    "\n",
    "# ニューラルネットワーク構造体\n",
    "mutable struct Network\n",
    "    l::Int # ネットワーク層数\n",
    "    b::Vector{Array{Float64,2}} # バイアス: [層1: Array{1x次層ニューロン数}, 層2: Array{1x次層ニューロン数}, ...]\n",
    "    w::Vector{Array{Float64,2}} # 重み: [層1: Array{前層ニューロン数x次層ニューロン数}, 層2: Array{前層ニューロン数x次層ニューロン数}, ...]\n",
    "end\n",
    "\n",
    "# ニューラルネットワーク1層計算関数\n",
    "## Network構造体, 層番号, 活性化関数, 層の入力信号 -> 層の出力信号 z\n",
    "forward(network::Network, i::Int, h, x::Array{Float64,2})::Array{Float64,2} =\n",
    "    h.(x * network.w[i] + network.b[i])\n",
    "\n",
    "# ニューラルネットワーク計算関数\n",
    "## Network構造体, 層番号, 中間層の活性化関数, 出力層の活性化関数, 入力信号 -> 出力信号 y\n",
    "execute(network::Network, h, σ, x::Array{Float64,2}, i::Int=1)::Array{Float64,2} = \n",
    "    i == network.l ? forward(network, i, σ, x) : execute(network, h, σ, forward(network, i, h, x), i + 1)\n",
    "\n",
    "# 中間層の活性化関数\n",
    "## シグモイド関数\n",
    "# シグモイド関数\n",
    "sigmoid(a::Float64)::Float64 = 1 / (1 + exp(-a))\n",
    "\n",
    "# 出力層の活性化関数\n",
    "## 恒等関数: 入力値をそのまま出力\n",
    "identity(x::Float64)::Float64 = x\n",
    "\n",
    "# 3層ニューラルネットワーク構築\n",
    "network = Network(\n",
    "    3,\n",
    "    [\n",
    "        # i番目の層のバイアス: 次層の数×1 Array{Float64,2}\n",
    "        [0.1 0.2 0.3], # 1 x 3\n",
    "        [0.1 0.2], # 1 x 2\n",
    "        [0.1 0.2] # 1 x 2\n",
    "    ],\n",
    "    [\n",
    "        # i番目の層の重み: 前層の数×次層の数 Array{Float64,2}\n",
    "        [0.1 0.3 0.5; 0.2 0.4 0.6], # 2 x 3\n",
    "        [0.1 0.4; 0.2 0.5; 0.3 0.6], # 3 x 2\n",
    "        [0.1 0.3; 0.2 0.4] # 2 x 2\n",
    "    ]\n",
    ")\n",
    "\n",
    "# ニューラルネットワーク計算実行\n",
    "## 中間層の活性化関数: sigmoid, 出力層の活性化関数: identity\n",
    "## 入力値: x1 = 1.0, x2 = 0.5\n",
    "execute(network, sigmoid, identity, [1.0 0.5])"
   ]
  },
  {
   "cell_type": "code",
   "execution_count": null,
   "metadata": {},
   "outputs": [],
   "source": []
  }
 ],
 "metadata": {
  "kernelspec": {
   "display_name": "Julia 1.5.3",
   "language": "julia",
   "name": "julia-1.5"
  },
  "language_info": {
   "file_extension": ".jl",
   "mimetype": "application/julia",
   "name": "julia",
   "version": "1.5.3"
  }
 },
 "nbformat": 4,
 "nbformat_minor": 4
}
