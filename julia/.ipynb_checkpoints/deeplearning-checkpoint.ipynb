{
 "cells": [
  {
   "cell_type": "markdown",
   "metadata": {},
   "source": [
    "https://yoyablog.com/post/deeplearning/julia-scratch"
   ]
  },
  {
   "cell_type": "code",
   "execution_count": 1,
   "metadata": {},
   "outputs": [
    {
     "name": "stderr",
     "output_type": "stream",
     "text": [
      "\u001b[32m\u001b[1m   Updating\u001b[22m\u001b[39m registry at `~/.julia/registries/General`\n",
      "tar: Failed to set default locale\n",
      "tar: Failed to set default locale\n",
      "######################################################################### 100.0%\n",
      "tar: Failed to set default locale\n",
      "\u001b[32m\u001b[1m  Resolving\u001b[22m\u001b[39m package versions...\n",
      "\u001b[32m\u001b[1mNo Changes\u001b[22m\u001b[39m to `~/.julia/environments/v1.5/Project.toml`\n",
      "\u001b[32m\u001b[1mNo Changes\u001b[22m\u001b[39m to `~/.julia/environments/v1.5/Manifest.toml`\n",
      "\u001b[32m\u001b[1m  Resolving\u001b[22m\u001b[39m package versions...\n",
      "\u001b[32m\u001b[1mNo Changes\u001b[22m\u001b[39m to `~/.julia/environments/v1.5/Project.toml`\n",
      "\u001b[32m\u001b[1mNo Changes\u001b[22m\u001b[39m to `~/.julia/environments/v1.5/Manifest.toml`\n"
     ]
    }
   ],
   "source": [
    "using Pkg; Pkg.add(\"HTTP\"); Pkg.add(\"DataFrames\")"
   ]
  },
  {
   "cell_type": "code",
   "execution_count": 2,
   "metadata": {},
   "outputs": [
    {
     "name": "stderr",
     "output_type": "stream",
     "text": [
      "\u001b[32m\u001b[1m  Resolving\u001b[22m\u001b[39m package versions...\n",
      "\u001b[32m\u001b[1mNo Changes\u001b[22m\u001b[39m to `~/.julia/environments/v1.5/Project.toml`\n",
      "\u001b[32m\u001b[1mNo Changes\u001b[22m\u001b[39m to `~/.julia/environments/v1.5/Manifest.toml`\n"
     ]
    }
   ],
   "source": [
    "using Pkg; Pkg.add(\"PyCall\")"
   ]
  },
  {
   "cell_type": "code",
   "execution_count": 3,
   "metadata": {},
   "outputs": [
    {
     "name": "stderr",
     "output_type": "stream",
     "text": [
      "\u001b[32m\u001b[1m  Resolving\u001b[22m\u001b[39m package versions...\n",
      "\u001b[32m\u001b[1mNo Changes\u001b[22m\u001b[39m to `~/.julia/environments/v1.5/Project.toml`\n",
      "\u001b[32m\u001b[1mNo Changes\u001b[22m\u001b[39m to `~/.julia/environments/v1.5/Manifest.toml`\n"
     ]
    }
   ],
   "source": [
    "using Pkg; Pkg.add(\"ScikitLearn\")"
   ]
  },
  {
   "cell_type": "code",
   "execution_count": 4,
   "metadata": {},
   "outputs": [
    {
     "name": "stderr",
     "output_type": "stream",
     "text": [
      "\u001b[32m\u001b[1m  Resolving\u001b[22m\u001b[39m package versions...\n",
      "\u001b[32m\u001b[1mNo Changes\u001b[22m\u001b[39m to `~/.julia/environments/v1.5/Project.toml`\n",
      "\u001b[32m\u001b[1mNo Changes\u001b[22m\u001b[39m to `~/.julia/environments/v1.5/Manifest.toml`\n"
     ]
    }
   ],
   "source": [
    "using Pkg; Pkg.add(\"PyPlot\")"
   ]
  },
  {
   "cell_type": "code",
   "execution_count": 5,
   "metadata": {},
   "outputs": [
    {
     "name": "stderr",
     "output_type": "stream",
     "text": [
      "\u001b[32m\u001b[1m  Resolving\u001b[22m\u001b[39m package versions...\n",
      "\u001b[32m\u001b[1mNo Changes\u001b[22m\u001b[39m to `~/.julia/environments/v1.5/Project.toml`\n",
      "\u001b[32m\u001b[1mNo Changes\u001b[22m\u001b[39m to `~/.julia/environments/v1.5/Manifest.toml`\n"
     ]
    }
   ],
   "source": [
    "using Pkg; Pkg.add(\"MLDatasets\")"
   ]
  },
  {
   "cell_type": "markdown",
   "metadata": {},
   "source": [
    "パーセプトロン\n",
    "- 1957年ローゼンブラットにより考案されたアルゴリズム\n",
    "- 複数の信号を受け取り、一つの信号を出力する\n",
    "- 出力する信号は「流す／流さない（1 or 0）」の二値\n",
    "- 各入力信号には重要度があり、それを重みで表現する"
   ]
  },
  {
   "cell_type": "code",
   "execution_count": 6,
   "metadata": {},
   "outputs": [
    {
     "data": {
      "text/plain": [
       "make_perceptron (generic function with 1 method)"
      ]
     },
     "execution_count": 6,
     "metadata": {},
     "output_type": "execute_result"
    }
   ],
   "source": [
    "using LinearAlgebra\n",
    "\n",
    "make_perceptron(weight::Array{Float64, 1}, bias::Float64) = begin\n",
    "    return (x::Array{Int, 1}) -> dot(x, weight) + bias > 0 ? 1 : 0\n",
    "end"
   ]
  },
  {
   "cell_type": "markdown",
   "metadata": {},
   "source": [
    "### AND Persseptron"
   ]
  },
  {
   "cell_type": "code",
   "execution_count": 7,
   "metadata": {},
   "outputs": [
    {
     "name": "stdout",
     "output_type": "stream",
     "text": [
      "[0, 0] => 0\n",
      "[0, 1] => 0\n",
      "[1, 0] => 0\n",
      "[1, 1] => 1\n"
     ]
    }
   ],
   "source": [
    "\"\"\"\n",
    "AND演算\n",
    "0, 0 => 0\n",
    "0, 1 => 0\n",
    "1, 0 => 0\n",
    "1, 1 => 1\n",
    "\"\"\"\n",
    "\n",
    "# ANDパーセプトロン\n",
    "## 重み: 0.5, 0.5\n",
    "## バイアス: -0.75\n",
    "AND = make_perceptron([0.5, 0.5], -0.75)\n",
    "\n",
    "for x in [[0, 0], [0, 1], [1, 0], [1, 1]]\n",
    "    println(\"$(x) => $(AND(x))\")\n",
    "end"
   ]
  },
  {
   "cell_type": "markdown",
   "metadata": {},
   "source": [
    "$ w_i $ は重み、　$ b $ はニューロンの発火のしやすさ\n",
    "基本的に\n",
    "\n",
    "$$\n",
    "    \\sum_{i=1}^{n} | w_i | = 1,　 | b | \\leq 1\n",
    "$$\n",
    "\n",
    "となる\n",
    "\n",
    "\n",
    "AND　PerceptronのParameterの意味を考えると\n",
    "- $ w_1, w_2 $ とともに0.5であるため、入力信号の重要度変わらない\n",
    "    - 言い換えれば、ふたつの入力値を変えても結果は変わらない\n",
    "- $b$ は-0.75であり、　0.25-1に等しい\n",
    "    - つまり、25％の確率で発火し、75％の確率で発火しない\n",
    "- 二つの入力値は入力順が変わっても出力値はかわらない\n",
    "$ [0, 1] = [0, 1] = 0 $\n",
    "- 4つの組み合わせうち出力値が１（発火）になるのは　$ ([1, 1]) $　のみ\n",
    "- 発火確率は　$　1/4 = 0.25 $ だから２５％"
   ]
  },
  {
   "cell_type": "code",
   "execution_count": 8,
   "metadata": {},
   "outputs": [
    {
     "name": "stdout",
     "output_type": "stream",
     "text": [
      "[0, 0] => 0\n",
      "[0, 1] => 1\n",
      "[1, 0] => 1\n",
      "[1, 1] => 1\n"
     ]
    }
   ],
   "source": [
    "\"\"\"\n",
    "OR演算\n",
    "0, 0 => 0\n",
    "0, 1 => 1\n",
    "1, 0 => 1\n",
    "1, 1 => 1\n",
    "\"\"\"\n",
    "\n",
    "# ORパーセプトロン\n",
    "## 重み: 0.5, 0.5 => 入力信号の重要度は変わらない\n",
    "## バイアス: -0.25 => 25%の確率で発火しない（[0,0]のみ）, 75%の確率で発火（[0,1], [1,0], [1,1]）\n",
    "OR = make_perceptron([0.5, 0.5], -0.25)\n",
    "\n",
    "for x in [[0, 0], [0, 1], [1, 0], [1, 1]]\n",
    "    println(\"$(x) => $(OR(x))\")\n",
    "end"
   ]
  },
  {
   "cell_type": "code",
   "execution_count": 9,
   "metadata": {},
   "outputs": [
    {
     "name": "stdout",
     "output_type": "stream",
     "text": [
      "[0, 0] => 1\n",
      "[0, 1] => 1\n",
      "[1, 0] => 1\n",
      "[1, 1] => 0\n"
     ]
    }
   ],
   "source": [
    "\"\"\"\n",
    "NAND: NOT AND\n",
    "0, 0 => 1\n",
    "0, 1 => 1\n",
    "1, 0 => 1\n",
    "1, 1 => 0\n",
    "\"\"\"\n",
    "\n",
    "# NANDパーセプトロン\n",
    "## 重みとバイアスをそれぞれ符号反転すれば NOT 演算に等しくなる: NOT AND = -AND(x, b)\n",
    "## 重み: -0.5, -0.5 => 入力信号の重要度は変わらない\n",
    "## バイアス: 0.75 => 25%の確率で発火（[1,1]）\n",
    "NAND = make_perceptron([-0.5, -0.5], 0.75)\n",
    "\n",
    "for x in [[0, 0], [0, 1], [1, 0], [1, 1]]\n",
    "    println(\"$(x) => $(NAND(x))\")\n",
    "end"
   ]
  },
  {
   "cell_type": "code",
   "execution_count": 10,
   "metadata": {},
   "outputs": [
    {
     "name": "stdout",
     "output_type": "stream",
     "text": [
      "[0, 0] => 1\n",
      "[0, 1] => 0\n",
      "[1, 0] => 0\n",
      "[1, 1] => 0\n"
     ]
    }
   ],
   "source": [
    "\"\"\"\n",
    "NOR: NOT OR\n",
    "0, 0 => 1\n",
    "0, 1 => 0\n",
    "1, 0 => 0\n",
    "1, 1 => 0\n",
    "\"\"\"\n",
    "\n",
    "# NORパーセプトロン\n",
    "## 重みとバイアスをそれぞれ符号反転すれば NOT 演算に等しくなる: NOT OR = -OR(x, b)\n",
    "## 重み: -0.5, -0.5 => 入力信号の重要度は変わらない\n",
    "## バイアス: 0.25 => 75%の確率で発火（[0,1], [1,0], [1,1]）\n",
    "NOR = make_perceptron([-0.5, -0.5], 0.25)\n",
    "\n",
    "for x in [[0, 0], [0, 1], [1, 0], [1, 1]]\n",
    "    println(\"$(x) => $(NOR(x))\")\n",
    "end"
   ]
  },
  {
   "cell_type": "code",
   "execution_count": 11,
   "metadata": {},
   "outputs": [
    {
     "name": "stdout",
     "output_type": "stream",
     "text": [
      "[0, 0] => 0\n",
      "[0, 1] => 1\n",
      "[1, 0] => 1\n",
      "[1, 1] => 0\n"
     ]
    }
   ],
   "source": [
    "\"\"\"\n",
    "XOR: AND(NAND(x1,x2), OR(x1,x2))\n",
    "0, 0 => 0\n",
    "0, 1 => 1\n",
    "1, 0 => 1\n",
    "1, 1 => 0\n",
    "\"\"\"\n",
    "\n",
    "# XORパーセプトロン\n",
    "## NAND, ORパーセプトロンを ANDパーセプトロンで結合する\n",
    "XOR(x::Array{Int,1}) = AND([NAND(x), OR(x)])\n",
    "\n",
    "for x in [[0, 0], [0, 1], [1, 0], [1, 1]]\n",
    "    println(\"$(x) => $(XOR(x))\")\n",
    "end"
   ]
  },
  {
   "cell_type": "code",
   "execution_count": 12,
   "metadata": {},
   "outputs": [
    {
     "data": {
      "text/plain": [
       "101-element Array{Float64,1}:\n",
       " 0.0\n",
       " 0.0\n",
       " 0.0\n",
       " 0.0\n",
       " 0.0\n",
       " 0.0\n",
       " 0.0\n",
       " 0.0\n",
       " 0.0\n",
       " 0.0\n",
       " 0.0\n",
       " 0.0\n",
       " 0.0\n",
       " ⋮\n",
       " 1.0\n",
       " 1.0\n",
       " 1.0\n",
       " 1.0\n",
       " 1.0\n",
       " 1.0\n",
       " 1.0\n",
       " 1.0\n",
       " 1.0\n",
       " 1.0\n",
       " 1.0\n",
       " 1.0"
      ]
     },
     "execution_count": 12,
     "metadata": {},
     "output_type": "execute_result"
    }
   ],
   "source": [
    "\"\"\"\n",
    "ステップ関数とシグモイド関数の比較\n",
    "\"\"\"\n",
    "\n",
    "# ステップ関数\n",
    "step(a::Float64)::Float64 = (a <= 0 ? 0 : 1)\n",
    "\n",
    "# シグモイド関数\n",
    "sigmoid(a::Float64)::Float64 = 1 / (1 + exp(-a))\n",
    "\n",
    "# プロット用｜横軸\n",
    "## collect(start:interval:end): start〜endまでinterval刻みの数値配列を生成\n",
    "a = collect(-5.0:0.1:5.0)\n",
    "\n",
    "# ステップ関数実行\n",
    "## function.(array) で function(v) for v in array を実行\n",
    "y = step.(a)"
   ]
  },
  {
   "cell_type": "code",
   "execution_count": 13,
   "metadata": {},
   "outputs": [
    {
     "name": "stderr",
     "output_type": "stream",
     "text": [
      "┌ Info: Precompiling PyPlot [d330b81b-6aea-500a-939a-2ce795aea3ee]\n",
      "└ @ Base loading.jl:1278\n"
     ]
    },
    {
     "data": {
      "image/png": "[encoded data removed]",
      "text/plain": [
       "Figure(PyObject <Figure size 640x480 with 1 Axes>)"
      ]
     },
     "metadata": {},
     "output_type": "display_data"
    },
    {
     "name": "stderr",
     "output_type": "stream",
     "text": [
      "WARNING: using PyPlot.step in module Main conflicts with an existing identifier.\n"
     ]
    },
    {
     "data": {
      "text/plain": [
       "1-element Array{PyCall.PyObject,1}:\n",
       " PyObject <matplotlib.lines.Line2D object at 0x7ffcd157deb0>"
      ]
     },
     "execution_count": 13,
     "metadata": {},
     "output_type": "execute_result"
    }
   ],
   "source": [
    "# PyPlotパッケージ利用\n",
    "using PyPlot\n",
    "\n",
    "# ステップ関数プロット\n",
    "plot(a, y)"
   ]
  },
  {
   "cell_type": "code",
   "execution_count": 14,
   "metadata": {
    "scrolled": true
   },
   "outputs": [
    {
     "data": {
      "image/png": "[encoded data removed]",
      "text/plain": [
       "Figure(PyObject <Figure size 640x480 with 1 Axes>)"
      ]
     },
     "metadata": {},
     "output_type": "display_data"
    },
    {
     "data": {
      "text/plain": [
       "1-element Array{PyCall.PyObject,1}:\n",
       " PyObject <matplotlib.lines.Line2D object at 0x7ffcd1657be0>"
      ]
     },
     "execution_count": 14,
     "metadata": {},
     "output_type": "execute_result"
    }
   ],
   "source": [
    "# シグモイド関数プロット\n",
    "plot(a, sigmoid.(a))"
   ]
  },
  {
   "cell_type": "code",
   "execution_count": 15,
   "metadata": {
    "scrolled": true
   },
   "outputs": [
    {
     "data": {
      "image/png": "[encoded data removed]",
      "text/plain": [
       "Figure(PyObject <Figure size 640x480 with 1 Axes>)"
      ]
     },
     "metadata": {},
     "output_type": "display_data"
    },
    {
     "data": {
      "text/plain": [
       "1-element Array{PyCall.PyObject,1}:\n",
       " PyObject <matplotlib.lines.Line2D object at 0x7ffca18320a0>"
      ]
     },
     "execution_count": 15,
     "metadata": {},
     "output_type": "execute_result"
    }
   ],
   "source": [
    "# ReLU関数\n",
    "ReLU(x::Float64)::Float64 = (x <= 0 ? 0 : x)\n",
    "\n",
    "# プロット用｜入力値: -5.0, -4.9, ..., 4.9, 5.0\n",
    "x = collect(-5.0:0.1:5.0)\n",
    "\n",
    "# ReLU関数プロット\n",
    "plot(x, ReLU.(x))"
   ]
  },
  {
   "cell_type": "markdown",
   "metadata": {},
   "source": [
    "### ニューラルネットワーク一層のテンソル計算\n",
    "\n",
    "$$\n",
    "    \\begin{bmatrix}\n",
    "    a_1^{(1)} \\\\\n",
    "    a_2^{(1)} \\\\\n",
    "    a_3^{(1)}\n",
    "    \\end{bmatrix}\n",
    "    =\n",
    "    \\begin{bmatrix}\n",
    "    x_1 & x_2\n",
    "    \\end{bmatrix}\n",
    "    \\begin{bmatrix}\n",
    "    w_{11}^{(1)} & w_{21}^{(1)} & w_{31}^{(1)} \\\\\n",
    "    w_{12}^{(1)} & w_{22}^{(1)} & w_{32}^{(1)}\n",
    "    \\end{bmatrix}\n",
    "    +\n",
    "    \\begin{bmatrix}\n",
    "    w_{1}^{(1)} \\\\\n",
    "    w_{2}^{(1)} \\\\\n",
    "    w_{3}^{(1)}\n",
    "    \\end{bmatrix} \\\\\n",
    "    =\n",
    "    \\begin{bmatrix}\n",
    "    \\sum_{p=1}^2 (x_1 * w_1^{(1)}) + b_1^{(1)} \\\\\n",
    "    \\sum_{p=1}^2 (x_2 * w_2^{(1)}) + b_1^{(2)} \\\\\n",
    "    \\sum_{p=1}^2 (x_3 * w_3^{(1)}) + b_1^{(3)}\n",
    "    \\end{bmatrix}\n",
    "$$"
   ]
  },
  {
   "cell_type": "code",
   "execution_count": 16,
   "metadata": {},
   "outputs": [
    {
     "data": {
      "text/plain": [
       "1×2 Array{Float64,2}:\n",
       " 0.316827  0.696279"
      ]
     },
     "execution_count": 16,
     "metadata": {},
     "output_type": "execute_result"
    }
   ],
   "source": [
    "\"\"\"\n",
    "3層ニューラルネットワークの実装\n",
    "\"\"\"\n",
    "\n",
    "# ニューラルネットワーク構造体\n",
    "mutable struct Network\n",
    "    l::Int # ネットワーク層数\n",
    "    b::Vector{Array{Float64,2}} # バイアス: [層1: Array{1x次層ニューロン数}, 層2: Array{1x次層ニューロン数}, ...]\n",
    "    w::Vector{Array{Float64,2}} # 重み: [層1: Array{前層ニューロン数x次層ニューロン数}, 層2: Array{前層ニューロン数x次層ニューロン数}, ...]\n",
    "end\n",
    "\n",
    "# ニューラルネットワーク1層計算関数\n",
    "## Network構造体, 層番号, 活性化関数, 層の入力信号 -> 層の出力信号 z\n",
    "forward(network::Network, i::Int, h, x::Array{Float64,2})::Array{Float64,2} =\n",
    "    h.(x * network.w[i] + network.b[i])\n",
    "\n",
    "# ニューラルネットワーク計算関数\n",
    "## Network構造体, 層番号, 中間層の活性化関数, 出力層の活性化関数, 入力信号 -> 出力信号 y\n",
    "execute(network::Network, h, σ, x::Array{Float64,2}, i::Int=1)::Array{Float64,2} = \n",
    "    i == network.l ? forward(network, i, σ, x) : execute(network, h, σ, forward(network, i, h, x), i + 1)\n",
    "\n",
    "# 中間層の活性化関数\n",
    "## シグモイド関数\n",
    "# シグモイド関数\n",
    "sigmoid(a::Float64)::Float64 = 1 / (1 + exp(-a))\n",
    "\n",
    "# 出力層の活性化関数\n",
    "## 恒等関数: 入力値をそのまま出力\n",
    "identity(x::Float64)::Float64 = x\n",
    "\n",
    "# 3層ニューラルネットワーク構築\n",
    "network = Network(\n",
    "    3,\n",
    "    [\n",
    "        # i番目の層のバイアス: 次層の数×1 Array{Float64,2}\n",
    "        [0.1 0.2 0.3], # 1 x 3\n",
    "        [0.1 0.2], # 1 x 2\n",
    "        [0.1 0.2] # 1 x 2\n",
    "    ],\n",
    "    [\n",
    "        # i番目の層の重み: 前層の数×次層の数 Array{Float64,2}\n",
    "        [0.1 0.3 0.5; 0.2 0.4 0.6], # 2 x 3\n",
    "        [0.1 0.4; 0.2 0.5; 0.3 0.6], # 3 x 2\n",
    "        [0.1 0.3; 0.2 0.4] # 2 x 2\n",
    "    ]\n",
    ")\n",
    "\n",
    "# ニューラルネットワーク計算実行\n",
    "## 中間層の活性化関数: sigmoid, 出力層の活性化関数: identity\n",
    "## 入力値: x1 = 1.0, x2 = 0.5\n",
    "execute(network, sigmoid, identity, [1.0 0.5])"
   ]
  },
  {
   "cell_type": "markdown",
   "metadata": {},
   "source": [
    "## ソフトマックス関数\n",
    "\n",
    "$$\n",
    "    y_k = \\frac{\\exp(a_k)}{\\sum_i^k \\exp(a_i)}\n",
    "$$"
   ]
  },
  {
   "cell_type": "code",
   "execution_count": 17,
   "metadata": {},
   "outputs": [
    {
     "name": "stdout",
     "output_type": "stream",
     "text": [
      "[0.01821127329554753, 0.24519181293507386, 0.7365969137693786]\n",
      "1.0\n"
     ]
    }
   ],
   "source": [
    "softmax(a::Vector{Float64})::Vector{Float64} = begin\n",
    "    c = maximum(a)\n",
    "    exp_a = exp.(a .- c)\n",
    "    y = exp_a / sum(exp_a)\n",
    "end\n",
    "\n",
    "y = softmax([0.3, 2.9, 4.0])\n",
    "println(y)\n",
    "\n",
    "println(sum(y))"
   ]
  },
  {
   "cell_type": "code",
   "execution_count": 18,
   "metadata": {},
   "outputs": [
    {
     "name": "stderr",
     "output_type": "stream",
     "text": [
      "┌ Info: Precompiling MLDatasets [eb30cadb-4394-5ae3-aed4-317e484a6458]\n",
      "└ @ Base loading.jl:1278\n"
     ]
    },
    {
     "data": {
      "image/png": "[encoded data removed]",
      "text/plain": [
       "Figure(PyObject <Figure size 640x480 with 1 Axes>)"
      ]
     },
     "metadata": {},
     "output_type": "display_data"
    },
    {
     "data": {
      "text/plain": [
       "5"
      ]
     },
     "execution_count": 18,
     "metadata": {},
     "output_type": "execute_result"
    }
   ],
   "source": [
    "using MLDatasets\n",
    "\n",
    "train_x, train_y = MNIST.traindata()\n",
    "\n",
    "# train_x: 特徴量=<画像データ\n",
    "# train_y: 目的変数=<数値クラス\n",
    "imshow(train_x[:, :, 1]')\n",
    "\n",
    "train_y[1]"
   ]
  },
  {
   "cell_type": "code",
   "execution_count": 19,
   "metadata": {},
   "outputs": [
    {
     "data": {
      "text/plain": [
       "0.9352"
      ]
     },
     "execution_count": 19,
     "metadata": {},
     "output_type": "execute_result"
    }
   ],
   "source": [
    "\"\"\"\n",
    "Python pickle（Pythonのオブジェクト状態を保存したもの）のローディング\n",
    "\"\"\"\n",
    "\n",
    "using HTTP\n",
    "using PyCall\n",
    "pickle = pyimport(\"pickle\")\n",
    "\n",
    "# ファイルにオブジェクト状態保存\n",
    "save_pickle(filename, obj) = begin\n",
    "    out = open(filename, \"w\")\n",
    "    pickle.dump(obj, out)\n",
    "    close(out)\n",
    "end\n",
    "\n",
    "# ファイルからオブジェクト状態復元\n",
    "load_pickle(filename) = begin\n",
    "    @pywith pybuiltin(\"open\")(filename, \"rb\") as f begin\n",
    "        return pickle.load(f)\n",
    "    end\n",
    "end\n",
    "\n",
    "# インターネット上のファイルからオブジェクト状態復元\n",
    "model = pickle.loads(\n",
    "    HTTP.request(\n",
    "        \"GET\", \"https://github.com/oreilly-japan/deep-learning-from-scratch/blob/master/ch03/sample_weight.pkl?raw=true\"\n",
    "    ).body\n",
    ")\n",
    "\n",
    "\"\"\"\n",
    "ニューラルネットワーク実装\n",
    "\"\"\"\n",
    "\n",
    "# ニューラルネットワーク構造体\n",
    "mutable struct Network\n",
    "    l::Int # ネットワーク層数\n",
    "    b::Vector{Array{Float64,2}} # バイアス: [層1: Array{1x次層ニューロン数}, 層2: Array{1x次層ニューロン数}, ...]\n",
    "    w::Vector{Array{Float64,2}} # 重み: [層1: Array{前層ニューロン数x次層ニューロン数}, 層2: Array{前層ニューロン数x次層ニューロン数}, ...]\n",
    "end\n",
    "\n",
    "# 順方向伝搬関数\n",
    "## Network構造体, 層番号, 活性化関数, 層の入力信号 -> 層の出力信号 z\n",
    "forward(network::Network, i::Int, h, x::Array{Float64,2})::Array{Float64,2} =\n",
    "    h(x * network.w[i] + network.b[i])\n",
    "\n",
    "# 推論処理\n",
    "## Network構造体, 層番号, 中間層の活性化関数, 出力層の活性化関数, 入力信号 -> 出力信号 y\n",
    "predict(network::Network, h, σ, x::Array{Float64,2}, i::Int=1)::Array{Float64,2} = \n",
    "    i == network.l ? forward(network, i, σ, x) : predict(network, h, σ, forward(network, i, h, x), i + 1)\n",
    "\n",
    "# 学習済みモデルのパラメータをセットして3層ニューラルネットワーク構築\n",
    "init(model::Dict{Any,Any})::Network = Network(\n",
    "    3,\n",
    "    [\n",
    "        # i番目の層のバイアス: Array{Float32,1} -> 1 x n Array{Float64,2}にキャスト\n",
    "        Array{Float64,2}(reshape(model[\"b1\"], (1, :))), # 1 x 50 Array{Float64,2}\n",
    "        Array{Float64,2}(reshape(model[\"b2\"], (1, :))), # 1 x 100 Array{Float64,2}\n",
    "        Array{Float64,2}(reshape(model[\"b3\"], (1, :))), # 1 x 10 Array{Float64,2}\n",
    "    ],\n",
    "    [\n",
    "        # i番目の層の重み: Array{Float32,2} -> Array{Float64,2}にキャスト\n",
    "        Array{Float64,2}(model[\"W1\"]),\n",
    "        Array{Float64,2}(model[\"W2\"]),\n",
    "        Array{Float64,2}(model[\"W3\"]),\n",
    "    ]\n",
    ")\n",
    "\n",
    "network = init(model)\n",
    "\n",
    "# テスト用画像データとその解答をロード\n",
    "test_x, test_y = MNIST.testdata()\n",
    "\n",
    "# 入力値をニューラルネットワークモデル用に前処理\n",
    "## 入力層は 1 x 784 Array{Float64,2} を受け付けるため、以下のように変換\n",
    "x = Array{Float64,3}(reshape(test_x, (1, 784, :))) # => 1 x 784 x 10,000枚 Array{Flaot64,2}\n",
    "\n",
    "# シグモイド関数\n",
    "sigmoid(a::Array{Float64,2})::Array{Float64,2} = 1 ./ (1 .+ exp.(-a))\n",
    "\n",
    "# ソフトマックス関数\n",
    "softmax(a::Array{Float64,2})::Array{Float64,2} = begin\n",
    "    c = maximum(a)\n",
    "    exp_a = exp.(a .- c) # オーバフロー対策\n",
    "    y = exp_a ./ sum(exp_a)\n",
    "end\n",
    "\n",
    "# 学習済みパラメータを適用したニューラルネットワークでテスト画像データ10,000枚に対して推論実行\n",
    "## 中間層の活性化関数: シグモイド関数\n",
    "## 出力層の活性化関数: ソフトマックス関数\n",
    "predict_y = [predict(network, sigmoid, softmax, x[:, :, i]) for i in 1:10000]\n",
    "\n",
    "# 各予測値のうち、最大値（最も確率の高い）のindex（数値クラス）を取得\n",
    "## Juliaのindexは1から始まるため -1 する\n",
    "predicted = [argmax(y)[2]-1 for y in predict_y]\n",
    "\n",
    "\n",
    "# 解答データと比較し、予測値の正確性を計測\n",
    "length(predicted[predicted .== test_y]) / 10000"
   ]
  },
  {
   "cell_type": "markdown",
   "metadata": {},
   "source": [
    "## バッチ処理\n",
    "\n",
    "`1×入力層ニューロン数` の行列をデータ数分ループ計算させるのではなく、`データ数×入力層ニューロン数` の行列を計算させる方が効率が良い"
   ]
  },
  {
   "cell_type": "markdown",
   "metadata": {},
   "source": [
    "入力値をニューラルネットワーク用に前処理をする  \n",
    "=> 1 ×　784 × 10,000 Array{Float64, 7}  \n",
    "これを 10,000 x 784 Array{Float64,2} に変換する  \n",
    "  \n",
    "まず、　１　×　７８４　×　10,000 の次元の並び順を 10,000 × 784 ×　１　に変換  \n",
    "その後、10,000 x 784 x 1 Array{Float64,3} を 10,000 x 784 Array{Float64,2} に変換  "
   ]
  },
  {
   "cell_type": "code",
   "execution_count": 20,
   "metadata": {},
   "outputs": [
    {
     "data": {
      "text/plain": [
       "10000×784 Array{Float64,2}:\n",
       " 0.0  0.0  0.0  0.0  0.0  0.0  0.0  0.0  …  0.0  0.0  0.0  0.0  0.0  0.0  0.0\n",
       " 0.0  0.0  0.0  0.0  0.0  0.0  0.0  0.0     0.0  0.0  0.0  0.0  0.0  0.0  0.0\n",
       " 0.0  0.0  0.0  0.0  0.0  0.0  0.0  0.0     0.0  0.0  0.0  0.0  0.0  0.0  0.0\n",
       " 0.0  0.0  0.0  0.0  0.0  0.0  0.0  0.0     0.0  0.0  0.0  0.0  0.0  0.0  0.0\n",
       " 0.0  0.0  0.0  0.0  0.0  0.0  0.0  0.0     0.0  0.0  0.0  0.0  0.0  0.0  0.0\n",
       " 0.0  0.0  0.0  0.0  0.0  0.0  0.0  0.0  …  0.0  0.0  0.0  0.0  0.0  0.0  0.0\n",
       " 0.0  0.0  0.0  0.0  0.0  0.0  0.0  0.0     0.0  0.0  0.0  0.0  0.0  0.0  0.0\n",
       " 0.0  0.0  0.0  0.0  0.0  0.0  0.0  0.0     0.0  0.0  0.0  0.0  0.0  0.0  0.0\n",
       " 0.0  0.0  0.0  0.0  0.0  0.0  0.0  0.0     0.0  0.0  0.0  0.0  0.0  0.0  0.0\n",
       " 0.0  0.0  0.0  0.0  0.0  0.0  0.0  0.0     0.0  0.0  0.0  0.0  0.0  0.0  0.0\n",
       " 0.0  0.0  0.0  0.0  0.0  0.0  0.0  0.0  …  0.0  0.0  0.0  0.0  0.0  0.0  0.0\n",
       " 0.0  0.0  0.0  0.0  0.0  0.0  0.0  0.0     0.0  0.0  0.0  0.0  0.0  0.0  0.0\n",
       " 0.0  0.0  0.0  0.0  0.0  0.0  0.0  0.0     0.0  0.0  0.0  0.0  0.0  0.0  0.0\n",
       " ⋮                        ⋮              ⋱                 ⋮              \n",
       " 0.0  0.0  0.0  0.0  0.0  0.0  0.0  0.0     0.0  0.0  0.0  0.0  0.0  0.0  0.0\n",
       " 0.0  0.0  0.0  0.0  0.0  0.0  0.0  0.0     0.0  0.0  0.0  0.0  0.0  0.0  0.0\n",
       " 0.0  0.0  0.0  0.0  0.0  0.0  0.0  0.0  …  0.0  0.0  0.0  0.0  0.0  0.0  0.0\n",
       " 0.0  0.0  0.0  0.0  0.0  0.0  0.0  0.0     0.0  0.0  0.0  0.0  0.0  0.0  0.0\n",
       " 0.0  0.0  0.0  0.0  0.0  0.0  0.0  0.0     0.0  0.0  0.0  0.0  0.0  0.0  0.0\n",
       " 0.0  0.0  0.0  0.0  0.0  0.0  0.0  0.0     0.0  0.0  0.0  0.0  0.0  0.0  0.0\n",
       " 0.0  0.0  0.0  0.0  0.0  0.0  0.0  0.0     0.0  0.0  0.0  0.0  0.0  0.0  0.0\n",
       " 0.0  0.0  0.0  0.0  0.0  0.0  0.0  0.0  …  0.0  0.0  0.0  0.0  0.0  0.0  0.0\n",
       " 0.0  0.0  0.0  0.0  0.0  0.0  0.0  0.0     0.0  0.0  0.0  0.0  0.0  0.0  0.0\n",
       " 0.0  0.0  0.0  0.0  0.0  0.0  0.0  0.0     0.0  0.0  0.0  0.0  0.0  0.0  0.0\n",
       " 0.0  0.0  0.0  0.0  0.0  0.0  0.0  0.0     0.0  0.0  0.0  0.0  0.0  0.0  0.0\n",
       " 0.0  0.0  0.0  0.0  0.0  0.0  0.0  0.0     0.0  0.0  0.0  0.0  0.0  0.0  0.0"
      ]
     },
     "execution_count": 20,
     "metadata": {},
     "output_type": "execute_result"
    }
   ],
   "source": [
    "X = permutedims(x, [3, 2, 1])\n",
    "X = Array{Float64, 2}(reshape(X, (10000, 784)))"
   ]
  },
  {
   "cell_type": "markdown",
   "metadata": {},
   "source": [
    "```\n",
    "入力層→中間層1\n",
    "入力信号｜(1×入力層ニューロン数)行列 * 重み｜(入力層ニューロン数×中間層1ニューロン数)行列 = (1×中間層1ニューロン数)行列\n",
    "(1×中間層1ニューロン数)行列 + バイアス｜(1×中間層1ニューロン数)行列 = (1×中間層1ニューロン数)行列\n",
    "```\n",
    "\n",
    "これをバッチ処理させる場合、以下のようにバイアスの行数と不一致が起こるため、計算できません\n",
    "\n",
    "```\n",
    "入力層→中間層1\n",
    "入力信号｜(10,000×入力層ニューロン数)行列 * 重み｜(入力層ニューロン数×中間層1ニューロン数)行列 = (10,000×中間層1ニューロン数)行列\n",
    "(10,000×中間層1ニューロン数)行列 + バイアス｜(1×中間層1ニューロン数)行列 = 行数不一致のため計算不可（10,000 \\neq 1）\n",
    "```\n",
    "そのため、forward関数を修正して実行する必要があります\n"
   ]
  },
  {
   "cell_type": "code",
   "execution_count": 21,
   "metadata": {},
   "outputs": [
    {
     "data": {
      "text/plain": [
       "0.9352"
      ]
     },
     "execution_count": 21,
     "metadata": {},
     "output_type": "execute_result"
    }
   ],
   "source": [
    "\"\"\"\n",
    "ニューラルネットワーク実装\n",
    "\"\"\"\n",
    "# ニューラルネットワーク構造体\n",
    "mutable struct Network\n",
    "    l::Int # ネットワーク層数\n",
    "    b::Vector{Array{Float64,2}} # バイアス: [層1: Array{1x次層ニューロン数}, 層2: Array{1x次層ニューロン数}, ...]\n",
    "    w::Vector{Array{Float64,2}} # 重み: [層1: Array{前層ニューロン数x次層ニューロン数}, 層2: Array{前層ニューロン数x次層ニューロン数}, ...]\n",
    "end\n",
    "\n",
    "# 順方向伝搬関数\n",
    "## Network構造体, 層番号, 活性化関数, 層の入力信号 -> 層の出力信号 z\n",
    "forward(network::Network, i::Int, h, x::Array{Float64,2})::Array{Float64,2} =\n",
    "    # バッチ処理の場合、前層の行数が1以上になるため、バイアスの加算をループ加算（.+）に変更\n",
    "    h(x * network.w[i] .+ network.b[i])\n",
    "\n",
    "# 推論処理\n",
    "## Network構造体, 層番号, 中間層の活性化関数, 出力層の活性化関数, 入力信号 -> 出力信号 y\n",
    "predict(network::Network, h, σ, x::Array{Float64,2}, i::Int=1)::Array{Float64,2} = \n",
    "    i == network.l ? forward(network, i, σ, x) : predict(network, h, σ, forward(network, i, h, x), i + 1)\n",
    "\n",
    "# 学習済みモデルのパラメータをセットして3層ニューラルネットワーク構築\n",
    "init(model::Dict{Any,Any})::Network = Network(\n",
    "    3,\n",
    "    [\n",
    "        # i番目の層のバイアス: Array{Float32,1} -> 1 x n Array{Float64,2}にキャスト\n",
    "        Array{Float64,2}(reshape(model[\"b1\"], (1, :))), # 1 x 50 Array{Float64,2}\n",
    "        Array{Float64,2}(reshape(model[\"b2\"], (1, :))), # 1 x 100 Array{Float64,2}\n",
    "        Array{Float64,2}(reshape(model[\"b3\"], (1, :))), # 1 x 10 Array{Float64,2}\n",
    "    ],\n",
    "    [\n",
    "        # i番目の層の重み: Array{Float32,2} -> Array{Float64,2}にキャスト\n",
    "        Array{Float64,2}(model[\"W1\"]),\n",
    "        Array{Float64,2}(model[\"W2\"]),\n",
    "        Array{Float64,2}(model[\"W3\"]),\n",
    "    ]\n",
    ")\n",
    "\n",
    "network = init(model)\n",
    "\n",
    "\"\"\"\n",
    "活性化関数\n",
    "\"\"\"\n",
    "# バッチ対応版シグモイド関数\n",
    "sigmoid(a::Array{Float64,2})::Array{Float64,2} = hcat(\n",
    "    [1 ./ (1 .+ exp.(-a[row, :])) for row in 1:size(a, 1)]...\n",
    ")'\n",
    "\n",
    "\n",
    "# バッチ対応版ソフトマックス関数\n",
    "softmax(a::Array{Float64,2})::Array{Float64,2} = begin\n",
    "    y = []\n",
    "    for row in 1:size(a, 1)\n",
    "        c = maximum(a[row, :])\n",
    "        exp_a = exp.(a[row, :] .- c) # オーバフロー対策\n",
    "        push!(y, exp_a ./ sum(exp_a))\n",
    "    end\n",
    "    hcat(y...)'\n",
    "end\n",
    "\n",
    "\"\"\"\n",
    "推論\n",
    "\"\"\"\n",
    "# データ数×入力層ニューロン数 の入力信号を一回の順伝搬処理で推論できる\n",
    "## [predict(network, sigmoid, softmax, x[:, :, i]) for i in 1:10000] より効率よく処理できる\n",
    "predict_y = predict(network, sigmoid, softmax, X)\n",
    "\n",
    "# 各行における10クラスのうち、最大値のindexを取得\n",
    "## argmaxの dims=1 なら各列における行内の比較、dims=2 なら各行における列内の比較\n",
    "indexes = argmax(predict_y; dims=2)\n",
    "\n",
    "# CartesianIndexの2次元目の値のみ取得する\n",
    "indexes = getindex.(indexes, [2])\n",
    "\n",
    "\n",
    "# Juliaのindexは1から始まるため、-1 して数値クラスを取得\n",
    "predicted = indexes .- 1\n",
    "\n",
    "# 解答データと比較して、予測精度を計算\n",
    "length(predicted[predicted .== test_y]) / 10000"
   ]
  },
  {
   "cell_type": "markdown",
   "metadata": {},
   "source": [
    "## 微分の実装"
   ]
  },
  {
   "cell_type": "code",
   "execution_count": 22,
   "metadata": {},
   "outputs": [
    {
     "data": {
      "text/plain": [
       "numeric_diff (generic function with 1 method)"
      ]
     },
     "execution_count": 22,
     "metadata": {},
     "output_type": "execute_result"
    }
   ],
   "source": [
    "# 数値微分関数\n",
    "numeric_diff(f, x) = begin\n",
    "    h = 1e-4\n",
    "    (f(x+h) - f(x-h)) / 2h\n",
    "end"
   ]
  },
  {
   "cell_type": "markdown",
   "metadata": {},
   "source": [
    "数値微分\n",
    "例題：$$ f(x) = 0.01x^2 + 0.1x $$\n",
    "解析的微分：\n",
    "$$\n",
    "f'(x) = 0.02x + 0.1 \\\\\n",
    "=> f'(5) = 0.2, f'(10) = 0.3\n",
    "$$"
   ]
  },
  {
   "cell_type": "code",
   "execution_count": 23,
   "metadata": {},
   "outputs": [
    {
     "name": "stdout",
     "output_type": "stream",
     "text": [
      "0.1999999999990898\n",
      "0.3\n"
     ]
    }
   ],
   "source": [
    "# 例題\n",
    "f(x) = 0.01x^2 + 0.1x\n",
    "\n",
    "println(numeric_diff(f, 5))\n",
    "\n",
    "println(round(numeric_diff(f, 10), digits=2))"
   ]
  },
  {
   "cell_type": "markdown",
   "metadata": {},
   "source": [
    "> ここで行っているように、微小な差分によって微分を求めることを数値微分numerical differentationという。一方、数式展開によって微分を求めることは、解析的analyticsという言葉を用いて、例えば「解析的に解く」とか「解析的に微分をもとめる」などという。解析的な微分は、誤差が含まれない「真の微分」として求めることができる。"
   ]
  },
  {
   "cell_type": "markdown",
   "metadata": {},
   "source": [
    "---"
   ]
  },
  {
   "cell_type": "markdown",
   "metadata": {},
   "source": [
    "## 偏微分\n",
    "\n",
    "以下の二変数関数について考える\n",
    "$$\n",
    "f(x_0, x_1) = x_0^2 + x_1^2\n",
    "$$"
   ]
  },
  {
   "cell_type": "code",
   "execution_count": 24,
   "metadata": {},
   "outputs": [
    {
     "data": {
      "image/png": "[encoded data removed]",
      "text/plain": [
       "Figure(PyObject <Figure size 640x480 with 1 Axes>)"
      ]
     },
     "metadata": {},
     "output_type": "display_data"
    },
    {
     "data": {
      "text/plain": [
       "PyObject <mpl_toolkits.mplot3d.art3d.Poly3DCollection object at 0x7ffca11bc970>"
      ]
     },
     "execution_count": 24,
     "metadata": {},
     "output_type": "execute_result"
    }
   ],
   "source": [
    "# 2変数関数\n",
    "f(x_0::Float64, x_1::Float64) = x_0^2 + x_1^2\n",
    "\n",
    "\"\"\"\n",
    "@show: グラフ描画\n",
    "\"\"\"\n",
    "# 軸準備\n",
    "x0 = collect(-3.0:0.1:3.0) # x_0: -3.0, -2.9, -2.8, ..., 2.9, 3.0\n",
    "x1 = collect(-3.0:0.1:3.0) # x_1: -3.0, -2.9, -2.8, ..., 2.9, 3.0\n",
    "\n",
    "# X軸: [x0 × x0]: 61 x 61 Array{Float64,2}\n",
    "X = hcat(fill(x0, length(x0))...)\n",
    "\n",
    "# Y軸: [x1 × x1] の転置行列: 61 x 61 Array{Float64,2}\n",
    "Y = hcat(fill(x1, length(x1))...)\n",
    "Y = Y'\n",
    "\n",
    "# Z軸: grid状にf(x0, x1)計算 = [f.(x0, x1) × f.(x0, x1')]\n",
    "## => 61 x 61 Array{Float64, 2}\n",
    "Z = [f(x, y) for x in x0, y in x1]\n",
    "\n",
    "# グラフ描画用に行列を1次元配列に変換\n",
    "X = reshape(X, (1, :))[1, :]\n",
    "Y = reshape(Y, (1, :))[1, :]\n",
    "Z = reshape(Z, (1, :))[1, :]\n",
    "\n",
    "# 3Dグラフを描画\n",
    "surf(X, Y, Z)"
   ]
  },
  {
   "cell_type": "code",
   "execution_count": 25,
   "metadata": {},
   "outputs": [
    {
     "data": {
      "text/plain": [
       "numeric_diff (generic function with 1 method)"
      ]
     },
     "execution_count": 25,
     "metadata": {},
     "output_type": "execute_result"
    }
   ],
   "source": [
    "# 数値微分関数\n",
    "numeric_diff(f, x) = begin\n",
    "    h = 1e-4 # 10^(-4)\n",
    "    (f(x + h) - f(x - h)) / 2h # 中心差分から微分値を計算\n",
    "end"
   ]
  },
  {
   "cell_type": "code",
   "execution_count": 26,
   "metadata": {},
   "outputs": [
    {
     "ename": "LoadError",
     "evalue": "MethodError: no method matching tangent_line(::typeof(f), ::Int64)\nClosest candidates are:\n  tangent_line(::Any, !Matched::Float64) at In[26]:5",
     "output_type": "error",
     "traceback": [
      "MethodError: no method matching tangent_line(::typeof(f), ::Int64)\nClosest candidates are:\n  tangent_line(::Any, !Matched::Float64) at In[26]:5",
      "",
      "Stacktrace:",
      " [1] top-level scope at In[26]:14",
      " [2] include_string(::Function, ::Module, ::String, ::String) at ./loading.jl:1091"
     ]
    }
   ],
   "source": [
    "using PyPlot\n",
    "\n",
    "f(x::Float64)::Float64 = 0.01x^2 + 0.1x\n",
    "\n",
    "tangent_line(f, x::Float64) = begin\n",
    "    d = numeric_diff(f, x)\n",
    "    print(d)\n",
    "    y = f.(x) - d*\n",
    "    return t -> d*t + y\n",
    "end\n",
    "\n",
    "x = collect(0:0.1:20)\n",
    "\n",
    "tf = tangent_line(f, 5)\n",
    "y2 = tf(x)\n",
    "\n",
    "plot(x, f.(x))\n",
    "plot(x, y2)"
   ]
  },
  {
   "cell_type": "markdown",
   "metadata": {},
   "source": [
    "## Gradient"
   ]
  },
  {
   "cell_type": "code",
   "execution_count": 27,
   "metadata": {},
   "outputs": [
    {
     "name": "stdout",
     "output_type": "stream",
     "text": [
      "[6.00000000000378, 7.999999999999119]\n",
      "[0.0, 4.000000000004]\n",
      "[6.000000000012662, 0.0]\n"
     ]
    }
   ],
   "source": [
    "# 数値微分による勾配の実装\n",
    "## 関数 f(Float64配列), Float64配列 x -> Float64配列 勾配\n",
    "numeric_gradient(f, x::Array{Float64,1})::Array{Float64,1} = begin\n",
    "    h = 1e-4 # 10^(-4)\n",
    "    grad = Array{Float64, 1}(undef, length(x)) # xと同じ長さの配列 [undef, undef, ...] を生成\n",
    "    # 各変数ごとの数値微分を配列にまとめる\n",
    "    for i in 1:length(x)\n",
    "        # 指定indexの変数に対する中心差分を求める\n",
    "        org = x[i]\n",
    "        x[i] = org + h\n",
    "        f1 = f(x) # f([..., x[i] + h, ...])\n",
    "        x[i] = org - h\n",
    "        f2 = f(x) # f([..., x[i] - h, ...])\n",
    "        grad[i] = (f1 - f2) / 2h # i番目の変数に対する数値微分\n",
    "        x[i] = org # x[i]の値をもとに戻す\n",
    "    end\n",
    "    return grad\n",
    "end\n",
    "\n",
    "\"\"\"\n",
    "@test:\n",
    "    2変数関数 f(x_0, x_1) = x_0^2 + x_1^2\n",
    "    点 (3, 4), (0, 2), (3, 0) における勾配を計算\n",
    "\"\"\"\n",
    "# 多変数関数\n",
    "f(x::Array{Float64,1}) = sum(x.^2)\n",
    "\n",
    "# 点 (3, 4) における勾配\n",
    "## (2x_0, 2x_1) = (6, 8)\n",
    "println(numeric_gradient(f, [3.0, 4.0]))\n",
    "\n",
    "# 点 (0, 2) における勾配\n",
    "## (2x_0, 2x_1) = (0, 4)\n",
    "println(numeric_gradient(f, [0.0, 2.0]))\n",
    "\n",
    "# 点 (3, 0) における勾配\n",
    "## (2x_0, 2x_1) = (6, 0)\n",
    "println(numeric_gradient(f, [3.0, 0.0]))"
   ]
  },
  {
   "cell_type": "code",
   "execution_count": 28,
   "metadata": {},
   "outputs": [
    {
     "data": {
      "image/png": "[encoded data removed]",
      "text/plain": [
       "Figure(PyObject <Figure size 640x480 with 1 Axes>)"
      ]
     },
     "metadata": {},
     "output_type": "display_data"
    },
    {
     "data": {
      "text/plain": [
       "PyObject <matplotlib.quiver.Quiver object at 0x7ffcc0252a00>"
      ]
     },
     "execution_count": 28,
     "metadata": {},
     "output_type": "execute_result"
    }
   ],
   "source": [
    "x0 = collect(-2.0 : 0.25 : 2.25)\n",
    "x1 = collect(-2.0 : 0.25 : 2.25)\n",
    "\n",
    "# X軸: [x0 × x0]: 18 x 18 Array{Float64,2}\n",
    "X = hcat(fill(x0, length(x0))...)\n",
    "\n",
    "# Y軸: [x1 × x1] の転置行列: 18 x 18 Array{Float64,2}\n",
    "Y = hcat(fill(x1, length(x1))...)\n",
    "Y = Y'\n",
    "\n",
    "# Z軸: grid状に勾配（Δf([x0, x1])）計算\n",
    "## => 18 x 18 Array{Float64, 2}\n",
    "Z = [numeric_gradient(f, [x, y]) for x in x0, y in x1]\n",
    "\n",
    "# グラフ描画用に行列を1次元配列に変換\n",
    "X = reshape(X, (1, :))[1, :]\n",
    "Y = reshape(Y, (1, :))[1, :]\n",
    "Z = reshape(Z, (1, :))[1, :]\n",
    "\n",
    "# quiver: x-y平面に座標(x, y)を基点として、成分(u, v)のベクトルを描く\n",
    "U = [z[1] for z in Z]\n",
    "V = [z[2] for z in Z]\n",
    "quiver(X, Y, -U, -V)"
   ]
  },
  {
   "cell_type": "markdown",
   "metadata": {},
   "source": [
    "### Gradient Descent\n",
    "\n",
    "$$\n",
    "\\vec{x} = \\vec{x} - \\eta \\frac{\\partial f}{\\partial \\vec{x}}　\\\\\n",
    "\\\\\n",
    "\\vec{x} : Vector x \\\\\n",
    "\\eta : 更新量（学習率） \\\\\n",
    "\\frac{\\partial f}{\\partial \\vec{x}}　: 勾配 \\\\\n",
    "$$"
   ]
  },
  {
   "cell_type": "code",
   "execution_count": 29,
   "metadata": {},
   "outputs": [
    {
     "data": {
      "text/plain": [
       "2-element Array{Float64,1}:\n",
       " -6.111107928998789e-10\n",
       "  8.148143905314271e-10"
      ]
     },
     "execution_count": 29,
     "metadata": {},
     "output_type": "execute_result"
    }
   ],
   "source": [
    "# implement gradient descent\n",
    "## 損失関数　f、Vector　x、HyperParameter　lr、試行回数　ste_num -> 最適化ベクトル\n",
    "gradient_descent(f, x::Array{Float64, 1}, lr::Float64=0.01, step_num::Int=100)::Array{Float64, 1} = begin\n",
    "    step_num > 0 ? gradient_descent(f, x - lr * numeric_gradient(f, x), lr, step_num -1) : x\n",
    "end\n",
    "\n",
    "\"\"\"\n",
    "@test: 勾配降下法により f(x_0, x_1) = x_0^2 + x_1^2 の最小値を求める\n",
    "\"\"\"\n",
    "# 初期パラメータ (-3, 4), 学習率 0.1 で勾配降下法を100回試行\n",
    "gradient_descent(f, [-3.0, 4.0], 0.1, 100)"
   ]
  },
  {
   "cell_type": "code",
   "execution_count": 30,
   "metadata": {},
   "outputs": [
    {
     "data": {
      "text/plain": [
       "2-element Array{Float64,1}:\n",
       " -2.5898374737328363e13\n",
       " -1.2952486168965398e12"
      ]
     },
     "execution_count": 30,
     "metadata": {},
     "output_type": "execute_result"
    }
   ],
   "source": [
    "gradient_descent(f, [-3.0, 4.0], 10.0, 100)"
   ]
  },
  {
   "cell_type": "code",
   "execution_count": 31,
   "metadata": {},
   "outputs": [
    {
     "data": {
      "text/plain": [
       "2-element Array{Float64,1}:\n",
       " -2.999999939999995\n",
       "  3.9999999199999934"
      ]
     },
     "execution_count": 31,
     "metadata": {},
     "output_type": "execute_result"
    }
   ],
   "source": [
    "gradient_descent(f, [-3.0, 4.0], 1e-10, 100)"
   ]
  },
  {
   "cell_type": "markdown",
   "metadata": {},
   "source": [
    "学習率が大きすぎると大きく発散してしまい、逆に小さすぎる場合はほとんど学習が進行しない"
   ]
  },
  {
   "cell_type": "markdown",
   "metadata": {},
   "source": [
    "---\n",
    "### 損失関数\n",
    "#### 二乗和誤差\n",
    "\n",
    "$$\n",
    "E = 1/2 \\sum_{k}(y_k - t_k)^2 \\\\\n",
    "\\\\\n",
    "k : データの次元数 \\\\\n",
    "y_k : ニューラルネットワークの出力（予測値） \\\\\n",
    "t_k : 教師データ（正解値） \\\\\n",
    "$$"
   ]
  },
  {
   "cell_type": "code",
   "execution_count": 32,
   "metadata": {},
   "outputs": [
    {
     "name": "stdout",
     "output_type": "stream",
     "text": [
      "0.09750000000000003\n",
      "0.5974999999999999\n"
     ]
    }
   ],
   "source": [
    "mean_squared_error(y::Array{Float64, 2}, t::Array{Float64, 2})::Float64 = 0.5 * sum((y - t).^2)\n",
    "\n",
    "\"\"\"\n",
    "@test: 二乗和誤差dd\n",
    "- correct value : label 2\n",
    "- predicted value : probability of label \"0~9\" is 0.1, 0.05, 0.6, 0.0, 0.05, 0.1, 0.0, 0.1, 0.0, 0.0\n",
    "    => probability of label \"2\" is highest (0.6) so mean squared error is smallest; closest from correct value\n",
    "- probability of label \"0~9\" is 0.1, 0.05, 0.1, 0.0, 0.05, 0.1, 0.0, 0.6, 0.0, 0.0\n",
    "    => probability of kabek \"7\" is highest (0.6), so mean squared error is smallest; farthest from correct value\n",
    "\"\"\"\n",
    "\n",
    "t = [0.0 0.0 1.0 0.0 0.0 0.0 0.0 0.0 0.0 0.0]\n",
    "y_2 = [0.1 0.05 0.6 0.0 0.05 0.1 0.0 0.1 0.0 0.0]\n",
    "println(mean_squared_error(y_2, t))\n",
    "\n",
    "y_7 = [0.1 0.05 0.1 0.0 0.05 0.1 0.0 0.6 0.0 0.0]\n",
    "println(mean_squared_error(y_7, t))"
   ]
  },
  {
   "cell_type": "markdown",
   "metadata": {},
   "source": [
    "####  Cross entropy error\n",
    "分類問題の損失関数\n",
    "交差エントロピー誤差の計算量が2乗和誤差に比べて遥かに少なく、それでいながら十分に正確な誤差を表現を表すことができる\n",
    "\n",
    "$$\n",
    "E = -\\sum_k t_k \\times \\ln y_k \\\\\n",
    "\\\\\n",
    "k : データの次元数\\\\\n",
    "y_k : ニューラルネットワークの出力（Predicted value）\\\\\n",
    "t_k : 教師データ（Correct value）\\\\\n",
    "$$\n",
    "\n",
    "> 上式は、教師データが one-hot表現（正解ラベルのインデックスのみが 1 の行列表現）である場合、実質正解ラベルの計算しか行いません\n",
    "> そのため、正解ラベルの確率に対する対数（逆指数）表現となります（確率が高いほど加速度的に誤差が小さくなる）"
   ]
  },
  {
   "cell_type": "code",
   "execution_count": 35,
   "metadata": {},
   "outputs": [
    {
     "name": "stdout",
     "output_type": "stream",
     "text": [
      "0.510825457099338\n",
      "2.302584092994546\n"
     ]
    }
   ],
   "source": [
    "cross_entropy_error(y::Array{Float64, 2}, t::Array{Float64, 2})::Float64 = -sum(t .* log.(y .+ 1e-7))\n",
    "\n",
    "\"\"\"\n",
    "@test: Cross entropy error\n",
    "- correct value: label \"2\"\n",
    "\n",
    "- predicted value : probability of label \"0-9\" is y_2\n",
    "    => probability of label \"2\" is highest (0.6), so mean cross entropy error is smallest; it is closest from correct value\n",
    "- predicted value : probability of label \"0-9\" is y_7\n",
    "    => probability of label \"7\" is highest (0.6), so mean cross entropy error is biggest; it is farthest from corrent value\n",
    "\"\"\"\n",
    "# teacher data matrix\n",
    "t = [0.0 0.0 1.0 0.0 0.0 0.0 0.0 0.0 0.0 0.0]\n",
    "\n",
    "# predicted value\n",
    "y_2 = [0.1 0.05 0.6 0.0 0.05 0.1 0.0 0.1 0.0 0.0]\n",
    "println(cross_entropy_error(y_2, t))\n",
    "\n",
    "y_7 = [0.1 0.05 0.1 0.0 0.05 0.1 0.0 0.6 0.0 0.0]\n",
    "println(cross_entropy_error(y_7, t))"
   ]
  },
  {
   "cell_type": "markdown",
   "metadata": {},
   "source": [
    "### mini batch learning"
   ]
  },
  {
   "cell_type": "code",
   "execution_count": 38,
   "metadata": {},
   "outputs": [
    {
     "data": {
      "text/plain": [
       "28×28×100 Array{N0f8,3} with eltype FixedPointNumbers.Normed{UInt8,8}:\n",
       "[:, :, 1] =\n",
       " 0.0  0.0  0.0  0.0  0.0  0.0    0.0    …  0.0    0.0    0.0    0.0  0.0  0.0\n",
       " 0.0  0.0  0.0  0.0  0.0  0.0    0.0       0.0    0.0    0.0    0.0  0.0  0.0\n",
       " 0.0  0.0  0.0  0.0  0.0  0.0    0.0       0.0    0.0    0.0    0.0  0.0  0.0\n",
       " 0.0  0.0  0.0  0.0  0.0  0.0    0.0       0.0    0.0    0.0    0.0  0.0  0.0\n",
       " 0.0  0.0  0.0  0.0  0.0  0.0    0.0       0.0    0.0    0.0    0.0  0.0  0.0\n",
       " 0.0  0.0  0.0  0.0  0.0  0.0    0.0    …  0.0    0.0    0.0    0.0  0.0  0.0\n",
       " 0.0  0.0  0.0  0.0  0.0  0.0    0.0       0.0    0.0    0.0    0.0  0.0  0.0\n",
       " 0.0  0.0  0.0  0.0  0.0  0.0    0.0       0.0    0.0    0.0    0.0  0.0  0.0\n",
       " 0.0  0.0  0.0  0.0  0.0  0.0    0.0       0.0    0.0    0.0    0.0  0.0  0.0\n",
       " 0.0  0.0  0.0  0.0  0.0  0.0    0.0       0.0    0.0    0.0    0.0  0.0  0.0\n",
       " 0.0  0.0  0.0  0.0  0.0  0.0    0.0    …  0.0    0.0    0.0    0.0  0.0  0.0\n",
       " 0.0  0.0  0.0  0.0  0.0  0.0    0.0       0.0    0.075  0.043  0.0  0.0  0.0\n",
       " 0.0  0.0  0.0  0.0  0.0  0.0    0.0       0.784  0.918  0.749  0.0  0.0  0.0\n",
       " ⋮                        ⋮             ⋱                       ⋮         \n",
       " 0.0  0.0  0.0  0.0  0.0  1.0    0.996     0.0    0.0    0.0    0.0  0.0  0.0\n",
       " 0.0  0.0  0.0  0.0  0.0  0.784  0.773     0.0    0.0    0.0    0.0  0.0  0.0\n",
       " 0.0  0.0  0.0  0.0  0.0  0.0    0.0       0.0    0.0    0.0    0.0  0.0  0.0\n",
       " 0.0  0.0  0.0  0.0  0.0  0.0    0.0       0.0    0.0    0.0    0.0  0.0  0.0\n",
       " 0.0  0.0  0.0  0.0  0.0  0.0    0.0    …  0.0    0.0    0.0    0.0  0.0  0.0\n",
       " 0.0  0.0  0.0  0.0  0.0  0.0    0.0       0.0    0.0    0.0    0.0  0.0  0.0\n",
       " 0.0  0.0  0.0  0.0  0.0  0.0    0.0       0.0    0.0    0.0    0.0  0.0  0.0\n",
       " 0.0  0.0  0.0  0.0  0.0  0.0    0.0       0.0    0.0    0.0    0.0  0.0  0.0\n",
       " 0.0  0.0  0.0  0.0  0.0  0.0    0.0       0.0    0.0    0.0    0.0  0.0  0.0\n",
       " 0.0  0.0  0.0  0.0  0.0  0.0    0.0    …  0.0    0.0    0.0    0.0  0.0  0.0\n",
       " 0.0  0.0  0.0  0.0  0.0  0.0    0.0       0.0    0.0    0.0    0.0  0.0  0.0\n",
       " 0.0  0.0  0.0  0.0  0.0  0.0    0.0       0.0    0.0    0.0    0.0  0.0  0.0\n",
       "\n",
       "[:, :, 2] =\n",
       " 0.0  0.0  0.0  0.0  0.0  0.0  0.0  …  0.0    0.0    0.0    0.0  0.0  0.0\n",
       " 0.0  0.0  0.0  0.0  0.0  0.0  0.0     0.0    0.0    0.0    0.0  0.0  0.0\n",
       " 0.0  0.0  0.0  0.0  0.0  0.0  0.0     0.0    0.0    0.0    0.0  0.0  0.0\n",
       " 0.0  0.0  0.0  0.0  0.0  0.0  0.0     0.0    0.0    0.0    0.0  0.0  0.0\n",
       " 0.0  0.0  0.0  0.0  0.0  0.0  0.0     0.0    0.0    0.0    0.0  0.0  0.0\n",
       " 0.0  0.0  0.0  0.0  0.0  0.0  0.0  …  0.0    0.0    0.0    0.0  0.0  0.0\n",
       " 0.0  0.0  0.0  0.0  0.0  0.0  0.0     0.361  0.914  0.243  0.0  0.0  0.0\n",
       " 0.0  0.0  0.0  0.0  0.0  0.0  0.0     0.596  0.988  0.718  0.0  0.0  0.0\n",
       " 0.0  0.0  0.0  0.0  0.0  0.0  0.0     0.678  0.992  0.796  0.0  0.0  0.0\n",
       " 0.0  0.0  0.0  0.0  0.0  0.0  0.0     0.675  0.988  0.796  0.0  0.0  0.0\n",
       " 0.0  0.0  0.0  0.0  0.0  0.0  0.0  …  1.0    0.992  0.718  0.0  0.0  0.0\n",
       " 0.0  0.0  0.0  0.0  0.0  0.0  0.0     0.992  0.988  0.078  0.0  0.0  0.0\n",
       " 0.0  0.0  0.0  0.0  0.0  0.0  0.0     0.996  0.514  0.0    0.0  0.0  0.0\n",
       " ⋮                        ⋮         ⋱                       ⋮         \n",
       " 0.0  0.0  0.0  0.0  0.0  0.0  0.0     0.0    0.0    0.0    0.0  0.0  0.0\n",
       " 0.0  0.0  0.0  0.0  0.0  0.0  0.0     0.0    0.0    0.0    0.0  0.0  0.0\n",
       " 0.0  0.0  0.0  0.0  0.0  0.0  0.0     0.0    0.0    0.0    0.0  0.0  0.0\n",
       " 0.0  0.0  0.0  0.0  0.0  0.0  0.0     0.0    0.0    0.0    0.0  0.0  0.0\n",
       " 0.0  0.0  0.0  0.0  0.0  0.0  0.0  …  0.0    0.0    0.0    0.0  0.0  0.0\n",
       " 0.0  0.0  0.0  0.0  0.0  0.0  0.0     0.0    0.0    0.0    0.0  0.0  0.0\n",
       " 0.0  0.0  0.0  0.0  0.0  0.0  0.0     0.0    0.0    0.0    0.0  0.0  0.0\n",
       " 0.0  0.0  0.0  0.0  0.0  0.0  0.0     0.0    0.0    0.0    0.0  0.0  0.0\n",
       " 0.0  0.0  0.0  0.0  0.0  0.0  0.0     0.0    0.0    0.0    0.0  0.0  0.0\n",
       " 0.0  0.0  0.0  0.0  0.0  0.0  0.0  …  0.0    0.0    0.0    0.0  0.0  0.0\n",
       " 0.0  0.0  0.0  0.0  0.0  0.0  0.0     0.0    0.0    0.0    0.0  0.0  0.0\n",
       " 0.0  0.0  0.0  0.0  0.0  0.0  0.0     0.0    0.0    0.0    0.0  0.0  0.0\n",
       "\n",
       "[:, :, 3] =\n",
       " 0.0  0.0  0.0    0.0    0.0    0.0    …  0.0    0.0  0.0  0.0  0.0  0.0  0.0\n",
       " 0.0  0.0  0.0    0.0    0.0    0.0       0.0    0.0  0.0  0.0  0.0  0.0  0.0\n",
       " 0.0  0.0  0.0    0.0    0.0    0.0       0.0    0.0  0.0  0.0  0.0  0.0  0.0\n",
       " 0.0  0.0  0.0    0.0    0.0    0.0       0.0    0.0  0.0  0.0  0.0  0.0  0.0\n",
       " 0.0  0.0  0.0    0.0    0.0    0.0       0.0    0.0  0.0  0.0  0.0  0.0  0.0\n",
       " 0.0  0.0  0.0    0.0    0.0    0.0    …  0.0    0.0  0.0  0.0  0.0  0.0  0.0\n",
       " 0.0  0.0  0.0    0.0    0.0    0.0       0.0    0.0  0.0  0.0  0.0  0.0  0.0\n",
       " 0.0  0.0  0.0    0.0    0.0    0.0       0.0    0.0  0.0  0.0  0.0  0.0  0.0\n",
       " 0.0  0.0  0.0    0.0    0.0    0.0       0.0    0.0  0.0  0.0  0.0  0.0  0.0\n",
       " 0.0  0.0  0.0    0.0    0.0    0.0       0.0    0.0  0.0  0.0  0.0  0.0  0.0\n",
       " 0.0  0.0  0.0    0.0    0.0    0.0    …  0.0    0.0  0.0  0.0  0.0  0.0  0.0\n",
       " 0.0  0.0  0.0    0.0    0.0    0.0       0.188  0.0  0.0  0.0  0.0  0.0  0.0\n",
       " 0.0  0.0  0.0    0.0    0.161  0.569     0.482  0.0  0.0  0.0  0.0  0.0  0.0\n",
       " ⋮                              ⋮      ⋱                        ⋮         \n",
       " 0.0  0.0  0.996  0.529  0.0    0.0       0.992  0.0  0.0  0.0  0.0  0.0  0.0\n",
       " 0.0  0.0  0.878  0.416  0.0    0.0       0.992  0.0  0.0  0.0  0.0  0.0  0.0\n",
       " 0.0  0.0  0.137  0.008  0.0    0.0       0.886  0.0  0.0  0.0  0.0  0.0  0.0\n",
       " 0.0  0.0  0.0    0.0    0.0    0.0       0.149  0.0  0.0  0.0  0.0  0.0  0.0\n",
       " 0.0  0.0  0.0    0.0    0.0    0.0    …  0.0    0.0  0.0  0.0  0.0  0.0  0.0\n",
       " 0.0  0.0  0.0    0.0    0.0    0.0       0.0    0.0  0.0  0.0  0.0  0.0  0.0\n",
       " 0.0  0.0  0.0    0.0    0.0    0.0       0.0    0.0  0.0  0.0  0.0  0.0  0.0\n",
       " 0.0  0.0  0.0    0.0    0.0    0.0       0.0    0.0  0.0  0.0  0.0  0.0  0.0\n",
       " 0.0  0.0  0.0    0.0    0.0    0.0       0.0    0.0  0.0  0.0  0.0  0.0  0.0\n",
       " 0.0  0.0  0.0    0.0    0.0    0.0    …  0.0    0.0  0.0  0.0  0.0  0.0  0.0\n",
       " 0.0  0.0  0.0    0.0    0.0    0.0       0.0    0.0  0.0  0.0  0.0  0.0  0.0\n",
       " 0.0  0.0  0.0    0.0    0.0    0.0       0.0    0.0  0.0  0.0  0.0  0.0  0.0\n",
       "\n",
       "...\n",
       "\n",
       "[:, :, 98] =\n",
       " 0.0  0.0  0.0  0.0  0.0  0.0  0.0  0.0    …  0.0    0.0    0.0    0.0    0.0\n",
       " 0.0  0.0  0.0  0.0  0.0  0.0  0.0  0.0       0.0    0.0    0.0    0.0    0.0\n",
       " 0.0  0.0  0.0  0.0  0.0  0.0  0.0  0.0       0.0    0.0    0.0    0.0    0.0\n",
       " 0.0  0.0  0.0  0.0  0.0  0.0  0.0  0.0       0.0    0.0    0.0    0.0    0.0\n",
       " 0.0  0.0  0.0  0.0  0.0  0.0  0.0  0.0       0.0    0.0    0.0    0.0    0.0\n",
       " 0.0  0.0  0.0  0.0  0.0  0.0  0.0  0.0    …  0.0    0.0    0.0    0.0    0.0\n",
       " 0.0  0.0  0.0  0.0  0.0  0.0  0.0  0.0       0.0    0.0    0.0    0.0    0.0\n",
       " 0.0  0.0  0.0  0.0  0.0  0.0  0.0  0.0       0.0    0.0    0.0    0.0    0.0\n",
       " 0.0  0.0  0.0  0.0  0.0  0.0  0.0  0.0       0.0    0.0    0.0    0.0    0.0\n",
       " 0.0  0.0  0.0  0.0  0.0  0.0  0.0  0.0       0.0    0.0    0.0    0.0    0.0\n",
       " 0.0  0.0  0.0  0.0  0.0  0.0  0.0  0.0    …  0.0    0.0    0.0    0.0    0.0\n",
       " 0.0  0.0  0.0  0.0  0.0  0.0  0.0  0.0       0.0    0.0    0.0    0.0    0.0\n",
       " 0.0  0.0  0.0  0.0  0.0  0.0  0.0  0.0       0.086  0.286  0.663  0.318  0.0\n",
       " ⋮                        ⋮                ⋱                ⋮             \n",
       " 0.0  0.0  0.0  0.0  0.0  0.0  0.0  0.992     0.0    0.0    0.0    0.0    0.0\n",
       " 0.0  0.0  0.0  0.0  0.0  0.0  0.0  0.89      0.0    0.0    0.0    0.0    0.0\n",
       " 0.0  0.0  0.0  0.0  0.0  0.0  0.0  0.408     0.0    0.0    0.0    0.0    0.0\n",
       " 0.0  0.0  0.0  0.0  0.0  0.0  0.0  0.0       0.0    0.0    0.0    0.0    0.0\n",
       " 0.0  0.0  0.0  0.0  0.0  0.0  0.0  0.0    …  0.0    0.0    0.0    0.0    0.0\n",
       " 0.0  0.0  0.0  0.0  0.0  0.0  0.0  0.0       0.0    0.0    0.0    0.0    0.0\n",
       " 0.0  0.0  0.0  0.0  0.0  0.0  0.0  0.0       0.0    0.0    0.0    0.0    0.0\n",
       " 0.0  0.0  0.0  0.0  0.0  0.0  0.0  0.0       0.0    0.0    0.0    0.0    0.0\n",
       " 0.0  0.0  0.0  0.0  0.0  0.0  0.0  0.0       0.0    0.0    0.0    0.0    0.0\n",
       " 0.0  0.0  0.0  0.0  0.0  0.0  0.0  0.0    …  0.0    0.0    0.0    0.0    0.0\n",
       " 0.0  0.0  0.0  0.0  0.0  0.0  0.0  0.0       0.0    0.0    0.0    0.0    0.0\n",
       " 0.0  0.0  0.0  0.0  0.0  0.0  0.0  0.0       0.0    0.0    0.0    0.0    0.0\n",
       "\n",
       "[:, :, 99] =\n",
       " 0.0  0.0  0.0  0.0  0.0  0.0  0.0  0.0    …  0.0    0.0    0.0    0.0    0.0\n",
       " 0.0  0.0  0.0  0.0  0.0  0.0  0.0  0.0       0.0    0.0    0.0    0.0    0.0\n",
       " 0.0  0.0  0.0  0.0  0.0  0.0  0.0  0.0       0.0    0.0    0.0    0.0    0.0\n",
       " 0.0  0.0  0.0  0.0  0.0  0.0  0.0  0.0       0.0    0.0    0.0    0.0    0.0\n",
       " 0.0  0.0  0.0  0.0  0.0  0.0  0.0  0.0       0.0    0.0    0.0    0.0    0.0\n",
       " 0.0  0.0  0.0  0.0  0.0  0.0  0.0  0.0    …  0.0    0.0    0.0    0.0    0.0\n",
       " 0.0  0.0  0.0  0.0  0.0  0.0  0.0  0.0       0.0    0.0    0.0    0.0    0.0\n",
       " 0.0  0.0  0.0  0.0  0.0  0.0  0.0  0.0       0.0    0.0    0.0    0.0    0.0\n",
       " 0.0  0.0  0.0  0.0  0.0  0.0  0.0  0.0       0.0    0.0    0.0    0.0    0.0\n",
       " 0.0  0.0  0.0  0.0  0.0  0.0  0.0  0.0       0.0    0.0    0.0    0.0    0.0\n",
       " 0.0  0.0  0.0  0.0  0.0  0.0  0.0  0.0    …  0.0    0.0    0.0    0.0    0.0\n",
       " 0.0  0.0  0.0  0.0  0.0  0.0  0.0  0.22      0.0    0.0    0.0    0.0    0.0\n",
       " 0.0  0.0  0.0  0.0  0.0  0.0  0.0  0.357     0.0    0.0    0.0    0.0    0.0\n",
       " ⋮                        ⋮                ⋱                ⋮             \n",
       " 0.0  0.0  0.0  0.0  0.0  0.0  0.0  0.357     0.0    0.0    0.0    0.0    0.0\n",
       " 0.0  0.0  0.0  0.0  0.0  0.0  0.0  0.773     0.804  0.804  0.153  0.0    0.0\n",
       " 0.0  0.0  0.0  0.0  0.0  0.0  0.0  0.357     0.992  0.992  0.851  0.184  0.0\n",
       " 0.0  0.0  0.0  0.0  0.0  0.0  0.0  0.047     0.992  0.992  0.992  0.914  0.0\n",
       " 0.0  0.0  0.0  0.0  0.0  0.0  0.0  0.0    …  0.416  0.749  0.992  0.992  0.0\n",
       " 0.0  0.0  0.0  0.0  0.0  0.0  0.0  0.0       0.0    0.035  0.059  0.059  0.0\n",
       " 0.0  0.0  0.0  0.0  0.0  0.0  0.0  0.0       0.0    0.0    0.0    0.0    0.0\n",
       " 0.0  0.0  0.0  0.0  0.0  0.0  0.0  0.0       0.0    0.0    0.0    0.0    0.0\n",
       " 0.0  0.0  0.0  0.0  0.0  0.0  0.0  0.0       0.0    0.0    0.0    0.0    0.0\n",
       " 0.0  0.0  0.0  0.0  0.0  0.0  0.0  0.0    …  0.0    0.0    0.0    0.0    0.0\n",
       " 0.0  0.0  0.0  0.0  0.0  0.0  0.0  0.0       0.0    0.0    0.0    0.0    0.0\n",
       " 0.0  0.0  0.0  0.0  0.0  0.0  0.0  0.0       0.0    0.0    0.0    0.0    0.0\n",
       "\n",
       "[:, :, 100] =\n",
       " 0.0  0.0  0.0  0.0  0.0  0.0  0.0    …  0.0    0.0    0.0  0.0  0.0  0.0\n",
       " 0.0  0.0  0.0  0.0  0.0  0.0  0.0       0.0    0.0    0.0  0.0  0.0  0.0\n",
       " 0.0  0.0  0.0  0.0  0.0  0.0  0.0       0.0    0.0    0.0  0.0  0.0  0.0\n",
       " 0.0  0.0  0.0  0.0  0.0  0.0  0.0       0.0    0.0    0.0  0.0  0.0  0.0\n",
       " 0.0  0.0  0.0  0.0  0.0  0.0  0.0       0.0    0.0    0.0  0.0  0.0  0.0\n",
       " 0.0  0.0  0.0  0.0  0.0  0.0  0.0    …  0.0    0.0    0.0  0.0  0.0  0.0\n",
       " 0.0  0.0  0.0  0.0  0.0  0.0  0.0       0.0    0.0    0.0  0.0  0.0  0.0\n",
       " 0.0  0.0  0.0  0.0  0.0  0.0  0.0       0.0    0.0    0.0  0.0  0.0  0.0\n",
       " 0.0  0.0  0.0  0.0  0.0  0.0  0.0       0.106  0.0    0.0  0.0  0.0  0.0\n",
       " 0.0  0.0  0.0  0.0  0.0  0.0  0.0       0.651  0.0    0.0  0.0  0.0  0.0\n",
       " 0.0  0.0  0.0  0.0  0.0  0.0  0.0    …  0.886  0.047  0.0  0.0  0.0  0.0\n",
       " 0.0  0.0  0.0  0.0  0.0  0.0  0.0       0.996  0.153  0.0  0.0  0.0  0.0\n",
       " 0.0  0.0  0.0  0.0  0.0  0.0  0.0       0.992  0.294  0.0  0.0  0.0  0.0\n",
       " ⋮                        ⋮           ⋱                     ⋮         \n",
       " 0.0  0.0  0.0  0.0  0.0  0.0  0.0       0.192  0.0    0.0  0.0  0.0  0.0\n",
       " 0.0  0.0  0.0  0.0  0.0  0.0  0.0       0.0    0.0    0.0  0.0  0.0  0.0\n",
       " 0.0  0.0  0.0  0.0  0.0  0.0  0.0       0.0    0.0    0.0  0.0  0.0  0.0\n",
       " 0.0  0.0  0.0  0.0  0.0  0.0  0.0       0.0    0.0    0.0  0.0  0.0  0.0\n",
       " 0.0  0.0  0.0  0.0  0.0  0.0  0.122  …  0.0    0.0    0.0  0.0  0.0  0.0\n",
       " 0.0  0.0  0.0  0.0  0.0  0.0  0.157     0.0    0.0    0.0  0.0  0.0  0.0\n",
       " 0.0  0.0  0.0  0.0  0.0  0.0  0.157     0.0    0.0    0.0  0.0  0.0  0.0\n",
       " 0.0  0.0  0.0  0.0  0.0  0.0  0.157     0.0    0.0    0.0  0.0  0.0  0.0\n",
       " 0.0  0.0  0.0  0.0  0.0  0.0  0.392     0.0    0.0    0.0  0.0  0.0  0.0\n",
       " 0.0  0.0  0.0  0.0  0.0  0.0  0.463  …  0.0    0.0    0.0  0.0  0.0  0.0\n",
       " 0.0  0.0  0.0  0.0  0.0  0.0  0.416     0.0    0.0    0.0  0.0  0.0  0.0\n",
       " 0.0  0.0  0.0  0.0  0.0  0.0  0.0       0.0    0.0    0.0  0.0  0.0  0.0"
      ]
     },
     "execution_count": 38,
     "metadata": {},
     "output_type": "execute_result"
    }
   ],
   "source": [
    "\"\"\"\n",
    "mini batch\n",
    "\"\"\"\n",
    "\n",
    "batch_size = 100\n",
    "indexes = rand(1 : size(train_x)[3], batch_size)\n",
    "train_x[:, :, indexes]"
   ]
  },
  {
   "cell_type": "code",
   "execution_count": null,
   "metadata": {},
   "outputs": [],
   "source": []
  }
 ],
 "metadata": {
  "kernelspec": {
   "display_name": "Julia 1.5.3",
   "language": "julia",
   "name": "julia-1.5"
  },
  "language_info": {
   "file_extension": ".jl",
   "mimetype": "application/julia",
   "name": "julia",
   "version": "1.5.4"
  }
 },
 "nbformat": 4,
 "nbformat_minor": 4
}
