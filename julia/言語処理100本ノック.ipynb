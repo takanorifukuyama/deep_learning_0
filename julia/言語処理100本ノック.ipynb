{
 "cells": [
  {
   "cell_type": "code",
   "execution_count": 1,
   "id": "middle-indianapolis",
   "metadata": {},
   "outputs": [
    {
     "data": {
      "text/plain": [
       "'Q': ASCII/Unicode U+0051 (category Lu: Letter, uppercase)"
      ]
     },
     "execution_count": 1,
     "metadata": {},
     "output_type": "execute_result"
    }
   ],
   "source": [
    "\"QWERTY\"[1]"
   ]
  },
  {
   "cell_type": "code",
   "execution_count": 2,
   "id": "informed-visitor",
   "metadata": {},
   "outputs": [
    {
     "data": {
      "text/plain": [
       "\"QET\""
      ]
     },
     "execution_count": 2,
     "metadata": {},
     "output_type": "execute_result"
    }
   ],
   "source": [
    "\"QWERTY\"[1:2:6]"
   ]
  },
  {
   "cell_type": "code",
   "execution_count": 7,
   "id": "residential-kentucky",
   "metadata": {},
   "outputs": [
    {
     "data": {
      "text/plain": [
       "f (generic function with 1 method)"
      ]
     },
     "execution_count": 7,
     "metadata": {},
     "output_type": "execute_result"
    }
   ],
   "source": [
    "function f(s)\n",
    "    n = firstindex(s)\n",
    "    while n ≤ lastindex(s)\n",
    "        println(s[n], \" :\", n)\n",
    "        n = nextind(s, n)\n",
    "    end\n",
    "end"
   ]
  },
  {
   "cell_type": "code",
   "execution_count": 8,
   "id": "australian-direction",
   "metadata": {},
   "outputs": [
    {
     "name": "stdout",
     "output_type": "stream",
     "text": [
      "あ :1\n",
      "あ :4\n",
      "あ :7\n",
      "あ :10\n",
      "え :13\n",
      "い :16\n",
      "う :19\n",
      "え :22\n",
      "ほ :25\n"
     ]
    }
   ],
   "source": [
    "f(\"ああああえいうえほ\")"
   ]
  },
  {
   "cell_type": "code",
   "execution_count": 9,
   "id": "shaped-ethernet",
   "metadata": {},
   "outputs": [
    {
     "data": {
      "text/plain": [
       "\"teliot\""
      ]
     },
     "execution_count": 9,
     "metadata": {},
     "output_type": "execute_result"
    }
   ],
   "source": [
    "reverse(\"toilet\")"
   ]
  },
  {
   "cell_type": "code",
   "execution_count": 10,
   "id": "arranged-zoning",
   "metadata": {},
   "outputs": [
    {
     "data": {
      "text/plain": [
       "4-element Array{SubString{String},1}:\n",
       " \"ひふみ\"\n",
       " \"ゆん\"\n",
       " \"あおば\"\n",
       " \"はじめ\""
      ]
     },
     "execution_count": 10,
     "metadata": {},
     "output_type": "execute_result"
    }
   ],
   "source": [
    "split(\"ひふみ ゆん あおば はじめ\")"
   ]
  },
  {
   "cell_type": "code",
   "execution_count": 12,
   "id": "visible-moisture",
   "metadata": {},
   "outputs": [
    {
     "data": {
      "text/plain": [
       "4-element Array{SubString{String},1}:\n",
       " \"ひふみ\"\n",
       " \"ゆん\"\n",
       " \"あおば\"\n",
       " \"はじめ\""
      ]
     },
     "execution_count": 12,
     "metadata": {},
     "output_type": "execute_result"
    }
   ],
   "source": [
    "a = split(\"ひふみ\n",
    "       ゆん\n",
    "\n",
    "\n",
    "       あおば\n",
    "\n",
    "       はじめ\")"
   ]
  },
  {
   "cell_type": "code",
   "execution_count": 14,
   "id": "regulation-newsletter",
   "metadata": {},
   "outputs": [
    {
     "data": {
      "text/plain": [
       "2-element Array{String,1}:\n",
       " \"aa\"\n",
       " \"aaaa\""
      ]
     },
     "execution_count": 14,
     "metadata": {},
     "output_type": "execute_result"
    }
   ],
   "source": [
    "b = [\"aa\", \"aaaa\"]"
   ]
  },
  {
   "cell_type": "code",
   "execution_count": 15,
   "id": "central-sullivan",
   "metadata": {},
   "outputs": [
    {
     "data": {
      "text/plain": [
       "4-element Array{SubString{String},1}:\n",
       " \"ひふみ\"\n",
       " \"ゆん\"\n",
       " \"あおば\"\n",
       " \"はじめ\""
      ]
     },
     "execution_count": 15,
     "metadata": {},
     "output_type": "execute_result"
    }
   ],
   "source": [
    "split(\"ひふみ//////ゆん///あおば//はじめ\", r\"/+\")"
   ]
  },
  {
   "cell_type": "code",
   "execution_count": 16,
   "id": "expired-strand",
   "metadata": {},
   "outputs": [
    {
     "data": {
      "text/plain": [
       "12-element Array{SubString{String},1}:\n",
       " \"ひふみ\"\n",
       " \"\"\n",
       " \"\"\n",
       " \"\"\n",
       " \"\"\n",
       " \"\"\n",
       " \"ゆん\"\n",
       " \"\"\n",
       " \"\"\n",
       " \"あおば\"\n",
       " \"\"\n",
       " \"はじめ\""
      ]
     },
     "execution_count": 16,
     "metadata": {},
     "output_type": "execute_result"
    }
   ],
   "source": [
    "split(\"ひふみ//////ゆん///あおば//はじめ\", \"/\")"
   ]
  },
  {
   "cell_type": "code",
   "execution_count": 17,
   "id": "nonprofit-prayer",
   "metadata": {},
   "outputs": [
    {
     "data": {
      "text/plain": [
       "4-element Array{SubString{String},1}:\n",
       " \"ひふみ\"\n",
       " \"ゆん\"\n",
       " \"あおば\"\n",
       " \"はじめ\""
      ]
     },
     "execution_count": 17,
     "metadata": {},
     "output_type": "execute_result"
    }
   ],
   "source": [
    "split(\"ひふみ//////ゆん///あおば//はじめ\", \"/\", keepempty=false)"
   ]
  },
  {
   "cell_type": "code",
   "execution_count": 19,
   "id": "dynamic-bibliography",
   "metadata": {},
   "outputs": [
    {
     "data": {
      "text/plain": [
       "\"Now I need a drink, alcoholic of course, after the heavy lectures involving quantum mechanics.\""
      ]
     },
     "execution_count": 19,
     "metadata": {},
     "output_type": "execute_result"
    }
   ],
   "source": [
    "s = \"Now I need a drink, alcoholic of course, after the heavy lectures involving quantum mechanics.\"\n",
    "\"Now I need a drink, alcoholic of course, after the heavy lectures involving quantum mechanics.\""
   ]
  },
  {
   "cell_type": "code",
   "execution_count": 20,
   "id": "vanilla-drill",
   "metadata": {},
   "outputs": [
    {
     "name": "stdout",
     "output_type": "stream",
     "text": [
      "3 1 4 1 5 9 2 6 5 3 5 8 9 7 9 "
     ]
    }
   ],
   "source": [
    "for w = split(s, r\"[,\\. ] ?\", keepempty=false)\n",
    "    print(length(w), \" \")\n",
    "end"
   ]
  },
  {
   "cell_type": "code",
   "execution_count": 21,
   "id": "respective-white",
   "metadata": {},
   "outputs": [
    {
     "data": {
      "text/plain": [
       "\"Hi He Lied Because Boron Could Not Oxidize Fluorine. New Nations Might Also Sign Peace Security Clause. Arthur King Can.\""
      ]
     },
     "execution_count": 21,
     "metadata": {},
     "output_type": "execute_result"
    }
   ],
   "source": [
    "s = \"Hi He Lied Because Boron Could Not Oxidize Fluorine. New Nations Might Also Sign Peace Security Clause. Arthur King Can.\"\n",
    "\"Hi He Lied Because Boron Could Not Oxidize Fluorine. New Nations Might Also Sign Peace Security Clause. Arthur King Can.\""
   ]
  },
  {
   "cell_type": "code",
   "execution_count": 22,
   "id": "provincial-indie",
   "metadata": {},
   "outputs": [
    {
     "data": {
      "text/plain": [
       "20-element Array{SubString{String},1}:\n",
       " \"Hi\"\n",
       " \"He\"\n",
       " \"Lied\"\n",
       " \"Because\"\n",
       " \"Boron\"\n",
       " \"Could\"\n",
       " \"Not\"\n",
       " \"Oxidize\"\n",
       " \"Fluorine\"\n",
       " \"New\"\n",
       " \"Nations\"\n",
       " \"Might\"\n",
       " \"Also\"\n",
       " \"Sign\"\n",
       " \"Peace\"\n",
       " \"Security\"\n",
       " \"Clause\"\n",
       " \"Arthur\"\n",
       " \"King\"\n",
       " \"Can\""
      ]
     },
     "execution_count": 22,
     "metadata": {},
     "output_type": "execute_result"
    }
   ],
   "source": [
    "w_list = split(s, r\"[,\\. ] ?\", keepempty=false)"
   ]
  },
  {
   "cell_type": "code",
   "execution_count": 23,
   "id": "comparable-lease",
   "metadata": {},
   "outputs": [
    {
     "data": {
      "text/plain": [
       "9-element Array{Int64,1}:\n",
       "  1\n",
       "  5\n",
       "  6\n",
       "  7\n",
       "  8\n",
       "  9\n",
       " 15\n",
       " 16\n",
       " 19"
      ]
     },
     "execution_count": 23,
     "metadata": {},
     "output_type": "execute_result"
    }
   ],
   "source": [
    "single = [1, 5, 6, 7, 8, 9, 15, 16, 19]"
   ]
  },
  {
   "cell_type": "code",
   "execution_count": 24,
   "id": "appreciated-irish",
   "metadata": {},
   "outputs": [
    {
     "data": {
      "text/plain": [
       "Dict{Any,Any}()"
      ]
     },
     "execution_count": 24,
     "metadata": {},
     "output_type": "execute_result"
    }
   ],
   "source": [
    "element_dict = Dict()"
   ]
  },
  {
   "cell_type": "code",
   "execution_count": 27,
   "id": "spread-training",
   "metadata": {},
   "outputs": [],
   "source": [
    "for i = 1:length(w_list)\n",
    "    word_tmp = w_list[i]\n",
    "    element_dict[word_tmp[1:(i in single ? 1 : 2)]] = i\n",
    "end"
   ]
  },
  {
   "cell_type": "code",
   "execution_count": 28,
   "id": "daily-scoop",
   "metadata": {},
   "outputs": [
    {
     "data": {
      "text/plain": [
       "Dict{Any,Any} with 20 entries:\n",
       "  \"Si\" => 14\n",
       "  \"C\"  => 6\n",
       "  \"P\"  => 15\n",
       "  \"Ne\" => 10\n",
       "  \"Li\" => 3\n",
       "  \"O\"  => 8\n",
       "  \"B\"  => 5\n",
       "  \"N\"  => 7\n",
       "  \"He\" => 2\n",
       "  \"Be\" => 4\n",
       "  \"H\"  => 1\n",
       "  \"Cl\" => 17\n",
       "  \"Na\" => 11\n",
       "  \"Al\" => 13\n",
       "  \"S\"  => 16\n",
       "  \"Ar\" => 18\n",
       "  \"Mi\" => 12\n",
       "  \"Ca\" => 20\n",
       "  \"K\"  => 19\n",
       "  \"F\"  => 9"
      ]
     },
     "execution_count": 28,
     "metadata": {},
     "output_type": "execute_result"
    }
   ],
   "source": [
    "element_dict"
   ]
  },
  {
   "cell_type": "markdown",
   "id": "discrete-prefix",
   "metadata": {},
   "source": [
    "### n-gram"
   ]
  },
  {
   "cell_type": "code",
   "execution_count": 29,
   "id": "metric-firmware",
   "metadata": {},
   "outputs": [
    {
     "data": {
      "text/plain": [
       "gen_ngram (generic function with 1 method)"
      ]
     },
     "execution_count": 29,
     "metadata": {},
     "output_type": "execute_result"
    }
   ],
   "source": [
    "function gen_ngram(c, n)\n",
    "    [c[i:(i + n - 1)] for i in 1 : length(c) - n +1]\n",
    "end"
   ]
  },
  {
   "cell_type": "code",
   "execution_count": 30,
   "id": "derived-result",
   "metadata": {},
   "outputs": [
    {
     "data": {
      "text/plain": [
       "12-element Array{String,1}:\n",
       " \"I \"\n",
       " \" a\"\n",
       " \"am\"\n",
       " \"m \"\n",
       " \" a\"\n",
       " \"an\"\n",
       " \"n \"\n",
       " \" N\"\n",
       " \"NL\"\n",
       " \"LP\"\n",
       " \"Pe\"\n",
       " \"er\""
      ]
     },
     "execution_count": 30,
     "metadata": {},
     "output_type": "execute_result"
    }
   ],
   "source": [
    "gen_ngram(\"I am an NLPer\", 2)"
   ]
  },
  {
   "cell_type": "code",
   "execution_count": 31,
   "id": "voluntary-geneva",
   "metadata": {},
   "outputs": [
    {
     "data": {
      "text/plain": [
       "3-element Array{Array{SubString{String},1},1}:\n",
       " [\"I\", \"am\"]\n",
       " [\"am\", \"an\"]\n",
       " [\"an\", \"NLPer\"]"
      ]
     },
     "execution_count": 31,
     "metadata": {},
     "output_type": "execute_result"
    }
   ],
   "source": [
    "gen_ngram(split(\"I am an NLPer\"), 2)"
   ]
  },
  {
   "cell_type": "code",
   "execution_count": 32,
   "id": "alive-veteran",
   "metadata": {},
   "outputs": [
    {
     "data": {
      "text/plain": [
       "Set{String} with 8 elements:\n",
       "  \"pa\"\n",
       "  \"ar\"\n",
       "  \"ad\"\n",
       "  \"ap\"\n",
       "  \"is\"\n",
       "  \"se\"\n",
       "  \"ra\"\n",
       "  \"di\""
      ]
     },
     "execution_count": 32,
     "metadata": {},
     "output_type": "execute_result"
    }
   ],
   "source": [
    " X = Set(gen_ngram(\"paraparaparadise\", 2))"
   ]
  },
  {
   "cell_type": "code",
   "execution_count": 33,
   "id": "outside-insertion",
   "metadata": {},
   "outputs": [
    {
     "data": {
      "text/plain": [
       "Set{String} with 7 elements:\n",
       "  \"pa\"\n",
       "  \"ar\"\n",
       "  \"ap\"\n",
       "  \"gr\"\n",
       "  \"ph\"\n",
       "  \"ra\"\n",
       "  \"ag\""
      ]
     },
     "execution_count": 33,
     "metadata": {},
     "output_type": "execute_result"
    }
   ],
   "source": [
    " Y = Set(gen_ngram(\"paragraph\", 2))"
   ]
  },
  {
   "cell_type": "code",
   "execution_count": 34,
   "id": "essential-tokyo",
   "metadata": {},
   "outputs": [
    {
     "data": {
      "text/plain": [
       "Set{String} with 4 elements:\n",
       "  \"pa\"\n",
       "  \"ar\"\n",
       "  \"ap\"\n",
       "  \"ra\""
      ]
     },
     "execution_count": 34,
     "metadata": {},
     "output_type": "execute_result"
    }
   ],
   "source": [
    "X ∩ Y"
   ]
  },
  {
   "cell_type": "code",
   "execution_count": 35,
   "id": "earned-penny",
   "metadata": {},
   "outputs": [
    {
     "data": {
      "text/plain": [
       "Set{String} with 11 elements:\n",
       "  \"is\"\n",
       "  \"ph\"\n",
       "  \"ra\"\n",
       "  \"pa\"\n",
       "  \"ar\"\n",
       "  \"se\"\n",
       "  \"di\"\n",
       "  \"ad\"\n",
       "  \"ap\"\n",
       "  \"gr\"\n",
       "  \"ag\""
      ]
     },
     "execution_count": 35,
     "metadata": {},
     "output_type": "execute_result"
    }
   ],
   "source": [
    "X ∪ Y"
   ]
  },
  {
   "cell_type": "code",
   "execution_count": 39,
   "id": "insured-recipient",
   "metadata": {},
   "outputs": [
    {
     "data": {
      "text/plain": [
       "Set{String} with 4 elements:\n",
       "  \"ad\"\n",
       "  \"is\"\n",
       "  \"se\"\n",
       "  \"di\""
      ]
     },
     "execution_count": 39,
     "metadata": {},
     "output_type": "execute_result"
    }
   ],
   "source": [
    "setdiff(X, Y)"
   ]
  },
  {
   "cell_type": "code",
   "execution_count": 40,
   "id": "virgin-plastic",
   "metadata": {},
   "outputs": [
    {
     "data": {
      "text/plain": [
       "Set{String} with 3 elements:\n",
       "  \"gr\"\n",
       "  \"ph\"\n",
       "  \"ag\""
      ]
     },
     "execution_count": 40,
     "metadata": {},
     "output_type": "execute_result"
    }
   ],
   "source": [
    "setdiff(Y, X)"
   ]
  },
  {
   "cell_type": "code",
   "execution_count": null,
   "id": "solar-seminar",
   "metadata": {},
   "outputs": [],
   "source": []
  }
 ],
 "metadata": {
  "kernelspec": {
   "display_name": "Julia 1.5.3",
   "language": "julia",
   "name": "julia-1.5"
  },
  "language_info": {
   "file_extension": ".jl",
   "mimetype": "application/julia",
   "name": "julia",
   "version": "1.5.4"
  }
 },
 "nbformat": 4,
 "nbformat_minor": 5
}
